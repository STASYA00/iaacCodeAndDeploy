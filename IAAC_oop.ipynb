{
  "nbformat": 4,
  "nbformat_minor": 0,
  "metadata": {
    "colab": {
      "provenance": [],
      "authorship_tag": "ABX9TyPAz9GecXE3u+xuEikt+NXQ",
      "include_colab_link": true
    },
    "kernelspec": {
      "name": "python3",
      "display_name": "Python 3"
    },
    "language_info": {
      "name": "python"
    }
  },
  "cells": [
    {
      "cell_type": "markdown",
      "metadata": {
        "id": "view-in-github",
        "colab_type": "text"
      },
      "source": [
        "<a href=\"https://colab.research.google.com/github/STASYA00/iaacCodeAndDeploy/blob/main/IAAC_oop.ipynb\" target=\"_parent\"><img src=\"https://colab.research.google.com/assets/colab-badge.svg\" alt=\"Open In Colab\"/></a>"
      ]
    },
    {
      "cell_type": "markdown",
      "source": [
        "# IAAC - Architecture and Urban Design - OOP"
      ],
      "metadata": {
        "id": "F3vM7bgVIje3"
      }
    },
    {
      "cell_type": "markdown",
      "source": [
        "### Some ~~obligatory~~ good practices - OOP 🔥\n",
        "\n",
        "Object-Oriented Programming.\\\n",
        "*Google it to know more about the idea*\\\n",
        "\\\n",
        "The idea is to write code that is modular. Think about it as about a modular building: complex space with multiple functions composed of simple monofunctional blocks. Benefit: blocks can be combined in any way you like + you can easily substitute one block with another one. Or change the internal composition of a block - and all the instances of it will be replaced together.\\\n",
        "\\\n",
        "Objects are the code's modules.\\\n",
        "\\\n",
        "The main principle you need to know about now:\n",
        "* One object - one responsibility"
      ],
      "metadata": {
        "id": "oWRdsA8QAFtr"
      }
    },
    {
      "cell_type": "markdown",
      "source": [
        "![img](https://d2g3qskbb0hwf.cloudfront.net/eyJidWNrZXQiOiJ1bmktcHJvamVjdHMiLCJrZXkiOiI3LzA1NDQ3OTU4LWJlZTEtNGM5MC04NGFlLTQwZjY5OWFiZmU4ZS9rYXR5YTY5MjAyMC0xMC0yOVQwMC0zNy0xOC01NzA2MDUuanBnIiwiZWRpdHMiOnsicmVzaXplIjp7IndpZHRoIjoxNDQwLCJmaXQiOiJjb3ZlciJ9LCJmbGF0dGVuIjpmYWxzZSwibm9ybWFsaXNlIjpmYWxzZX19)"
      ],
      "metadata": {
        "id": "qoOSjedd7KyU"
      }
    },
    {
      "cell_type": "code",
      "source": [
        "from enum import Enum\n",
        "# Enumerator - so that we don't write dictionary keys many times (avoiding unnecessary bugs!)\n",
        "\n",
        "\n",
        "class DogMetrics(Enum):\n",
        "  MIN=\"min\"\n",
        "  MAX= \"max\"\n",
        "  CENTROID=\"centroid\"\n",
        "\n",
        "# How to use:\n",
        "DogMetrics.MIN.value"
      ],
      "metadata": {
        "id": "UTYRs3t_IjQv"
      },
      "execution_count": null,
      "outputs": []
    },
    {
      "cell_type": "markdown",
      "source": [
        "**Exercise**\\\n",
        "\\\n",
        "Write an enumerator BuildingTypes. 🏘\\\n",
        "\\\n",
        "BuildingTypes should have types ```COMMERCIAL```, ```RESIDENTIAL```, ```INDUSTRIAL```\\\n",
        "You can set any values you want \n"
      ],
      "metadata": {
        "id": "WqKuF_idCama"
      }
    },
    {
      "cell_type": "code",
      "execution_count": null,
      "metadata": {
        "id": "yslWla0FIYCI"
      },
      "outputs": [],
      "source": [
        "# your BuildingTypes implementation"
      ]
    },
    {
      "cell_type": "code",
      "source": [
        "# test\n",
        "assert(len(BuildingTypes.__members__.values())==3)\n",
        "assert(\"Commercial\".upper() in BuildingTypes.__members__.keys())\n",
        "assert(\"Industrial\".upper() in BuildingTypes.__members__.keys())\n",
        "assert(\"Residential\".upper() in BuildingTypes.__members__.keys())\n",
        "print(\"test passed\")"
      ],
      "metadata": {
        "id": "-F2edHQuI9ec"
      },
      "execution_count": null,
      "outputs": []
    },
    {
      "cell_type": "markdown",
      "source": [
        "### Classes vs Functions"
      ],
      "metadata": {
        "id": "hgM96mJqJy5E"
      }
    },
    {
      "cell_type": "markdown",
      "source": [
        "What is the difference? \\\n",
        "You can think about a function as about an action that you perform. In fact, names of the functions are usually verbs (e.g. ```make``` ```extract_data``` etc.). Classes allow you to create *objects* - that could have properties, just like objects in the real world. So an object ```Building``` could have height, length, width, typology, carbon emission. Just like in the real world, objects can perform *actions* - functions. So a dog can bark, a building can be built etc."
      ],
      "metadata": {
        "id": "zJcHnsOqJ1h_"
      }
    },
    {
      "cell_type": "code",
      "source": [
        "# example of a function\n",
        "# DOES NOT CONTAIN ANY PROPERTIES\n",
        "def run():\n",
        "  # do any action\n",
        "  return 12\n"
      ],
      "metadata": {
        "id": "00nvDWYLKvQ6"
      },
      "execution_count": 11,
      "outputs": []
    },
    {
      "cell_type": "code",
      "source": [
        "class Dog:\n",
        "  def __init__(self):\n",
        "    \"\"\"\n",
        "    Constructor of the class. This is just the code that is being called every \n",
        "    time you make 'a new dog', automatically.\n",
        "    \"\"\"\n",
        "    self.name = \"Kevin\"  # self refers to this particular dog\n",
        "                         # name is the property of the dog that we want to set\n",
        "\n",
        "# How to use:\n",
        "dog = Dog()\n",
        "print(dog.name) # this property is stored throughout the entire session \n",
        "# >> Kevin"
      ],
      "metadata": {
        "id": "YriZBn02K5wZ"
      },
      "execution_count": 1,
      "outputs": []
    },
    {
      "cell_type": "markdown",
      "source": [
        "You can change the dog's name:"
      ],
      "metadata": {
        "id": "Bgi9G_oJLzxM"
      }
    },
    {
      "cell_type": "code",
      "source": [
        "dog.name = \"Marvin\"\n",
        "print(dog.name) # this property is stored throughout the entire session \n",
        "# >> Marvin"
      ],
      "metadata": {
        "id": "qFroolxoLyve"
      },
      "execution_count": null,
      "outputs": []
    },
    {
      "cell_type": "markdown",
      "source": [
        "What happens if I have many dogs, and all of them have different names? Or many buildings with different addresses? I don't want to assign their names manually and write many lines with ```dog1```, ```dog2``` etc. \\\n",
        "\n",
        "We can pass this argument when we *create* a new ```Dog``` - remember, there is one function that anyway runs anytime we create a new ```Dog```:"
      ],
      "metadata": {
        "id": "crJALVAILoff"
      }
    },
    {
      "cell_type": "code",
      "source": [
        "class Dog:\n",
        "  def __init__(self, name): \n",
        "    self.name = name # we can pass this property to the dog as soon as it's 'born', from the outside\n",
        "\n",
        "dog = Dog(\"Kevin\")\n",
        "print(dog.name) # this property is stored throughout the entire session \n",
        "# >> Kevin"
      ],
      "metadata": {
        "colab": {
          "base_uri": "https://localhost:8080/"
        },
        "id": "SIux-h59MJ-m",
        "outputId": "8fba3f09-2c37-4241-8714-24a711422fe4"
      },
      "execution_count": 4,
      "outputs": [
        {
          "output_type": "stream",
          "name": "stdout",
          "text": [
            "Kevin\n"
          ]
        }
      ]
    },
    {
      "cell_type": "markdown",
      "source": [
        "So if I have many names of the dogs:"
      ],
      "metadata": {
        "id": "jHZUbk8RMuuD"
      }
    },
    {
      "cell_type": "code",
      "source": [
        "dog_names = [\"Amber\", \"Chris\", \"Marvin\", \"Kevin\", \"John\", \"Marco\", \"Anna\", \"Colin\"]"
      ],
      "metadata": {
        "id": "xener-NgMJ1i"
      },
      "execution_count": 5,
      "outputs": []
    },
    {
      "cell_type": "code",
      "source": [
        "dogs = []\n",
        "for name in dog_names:\n",
        "  dogs.append(Dog(name))\n",
        "\n",
        "print(dogs[5].name)\n",
        "# >> Marco"
      ],
      "metadata": {
        "colab": {
          "base_uri": "https://localhost:8080/"
        },
        "id": "2qHTLgvhM-qh",
        "outputId": "7d86eecd-b5f3-42fc-a1d0-0a7040e3364e"
      },
      "execution_count": 9,
      "outputs": [
        {
          "output_type": "stream",
          "name": "stdout",
          "text": [
            "Marco\n"
          ]
        }
      ]
    },
    {
      "cell_type": "markdown",
      "source": [
        "If there is one property that is *almost* always the same, we can pass a default value of it, so that we don't write it every time. Imagine, there are many dogs with the name Leonardo:"
      ],
      "metadata": {
        "id": "wnaUknDgNUYy"
      }
    },
    {
      "cell_type": "code",
      "source": [
        "class Dog:\n",
        "  def __init__(self, name=\"Leonardo\"): \n",
        "    self.name = name # if we do not pass any name, it will assign Leonardo\n",
        "\n",
        "dog = Dog(\"Kevin\")\n",
        "print(dog.name) # this property is stored throughout the entire session \n",
        "# >> Kevin\n",
        "\n",
        "dog = Dog()\n",
        "print(dog.name) # this property is stored throughout the entire session \n",
        "# >> Leonardo"
      ],
      "metadata": {
        "colab": {
          "base_uri": "https://localhost:8080/"
        },
        "id": "mlcRxPjmNiKF",
        "outputId": "6c0b27fa-ac4c-43ae-e005-9cfb58e9eaf2"
      },
      "execution_count": 10,
      "outputs": [
        {
          "output_type": "stream",
          "name": "stdout",
          "text": [
            "Kevin\n",
            "Leonardo\n"
          ]
        }
      ]
    },
    {
      "cell_type": "markdown",
      "source": [
        "In the real world objects can also perform actions: people can move and talk, dogs bark, buildings become heated or use electricity (kind of). Objects in python can have their own actions too. It's exactly like defining a normal function, but you write it inside the class. As a bonus, this action knows all the information about the object's properties, e.g. the name of the dog:"
      ],
      "metadata": {
        "id": "K4w0gszjOB1I"
      }
    },
    {
      "cell_type": "code",
      "source": [
        "class Dog:\n",
        "  def __init__(self, name=\"Leonardo\"): \n",
        "    self.name = name # if we do not pass any name, it will assign Leonardo\n",
        "\n",
        "  def bark(self):\n",
        "    # self here refers to this particular dog\n",
        "    return \"V\"\n",
        "\n",
        "# How to use:\n",
        "dog = Dog()\n",
        "dog.bark()\n",
        "# >> 'V'"
      ],
      "metadata": {
        "colab": {
          "base_uri": "https://localhost:8080/",
          "height": 36
        },
        "id": "iaGQ0TX3OARH",
        "outputId": "b334493c-d713-40c3-bbca-e6dccab50cba"
      },
      "execution_count": 14,
      "outputs": [
        {
          "output_type": "execute_result",
          "data": {
            "text/plain": [
              "'V'"
            ],
            "application/vnd.google.colaboratory.intrinsic+json": {
              "type": "string"
            }
          },
          "metadata": {},
          "execution_count": 14
        }
      ]
    },
    {
      "cell_type": "code",
      "source": [
        "class Dog:\n",
        "  def __init__(self, name=\"Leonardo\"): \n",
        "    self.name = name # if we do not pass any name, it will assign Leonardo\n",
        "\n",
        "  def bark(self):\n",
        "    # self here refers to this particular dog\n",
        "    return self.name\n",
        "\n",
        "# How to use:\n",
        "dog = Dog()\n",
        "dog.bark()\n",
        "# >> 'Leonardo'"
      ],
      "metadata": {
        "colab": {
          "base_uri": "https://localhost:8080/",
          "height": 36
        },
        "id": "J4brngX5OwyH",
        "outputId": "f1b4fee4-59a2-4fcc-928d-d39ae51bae3f"
      },
      "execution_count": 15,
      "outputs": [
        {
          "output_type": "execute_result",
          "data": {
            "text/plain": [
              "'Leonardo'"
            ],
            "application/vnd.google.colaboratory.intrinsic+json": {
              "type": "string"
            }
          },
          "metadata": {},
          "execution_count": 15
        }
      ]
    },
    {
      "cell_type": "markdown",
      "source": [
        "You can pass your own parameters to the function:"
      ],
      "metadata": {
        "id": "8kkZRK-KO3fE"
      }
    },
    {
      "cell_type": "code",
      "source": [
        "class Dog:\n",
        "  def __init__(self, name=\"Leonardo\"): \n",
        "    self.name = name # if we do not pass any name, it will assign Leonardo\n",
        "\n",
        "  def bark(self, action=\"sits\"):\n",
        "    # self here refers to this particular dog\n",
        "    return self.name + \" \" + action\n",
        "\n",
        "# How to use:\n",
        "dog = Dog()\n",
        "print(dog.bark())\n",
        "# >> 'Leonardo sits'\n",
        "print(dog.bark(\"stands\"))\n",
        "# >> 'Leonardo stands'"
      ],
      "metadata": {
        "colab": {
          "base_uri": "https://localhost:8080/"
        },
        "id": "ussT2Y0hO7wV",
        "outputId": "75bc09c0-195c-40b9-8c1e-ef3d579b0b02"
      },
      "execution_count": 18,
      "outputs": [
        {
          "output_type": "stream",
          "name": "stdout",
          "text": [
            "Leonardo sits\n",
            "Leonardo stands\n"
          ]
        }
      ]
    },
    {
      "cell_type": "code",
      "source": [
        "class Dog:\n",
        "  def __init__(self, name=\"Leonardo\"): \n",
        "    self.name = name # if we do not pass any name, it will assign Leonardo\n",
        "\n",
        "  def bark(self, action=\"sits\"):\n",
        "    result = 1\n",
        "    # Your most complex function with a huggingface segmentation model\n",
        "    return result\n",
        "\n",
        "# How to use:\n",
        "dog = Dog()\n",
        "print(dog.bark())\n",
        "# >> 1 or whatever the output of your segmentation model is"
      ],
      "metadata": {
        "colab": {
          "base_uri": "https://localhost:8080/"
        },
        "id": "ZTDrIgOoPQll",
        "outputId": "4b3b47c5-ba2a-4c93-d3f5-017f466d7747"
      },
      "execution_count": 19,
      "outputs": [
        {
          "output_type": "stream",
          "name": "stdout",
          "text": [
            "1\n"
          ]
        }
      ]
    },
    {
      "cell_type": "markdown",
      "source": [
        "**Exercise**\\\n",
        "\\\n",
        "Write a class Building. 🏘\\\n",
        "\\\n",
        "Building should have properties ```width```, ```length```, ```height```\\\n",
        "We want to calculate Building's footprint's area (we assume that it's rectangular) with ```get_area``` method\\\n",
        "We want to calculate Building's volume (we assume that it's a prism) with ```get_volume``` method"
      ],
      "metadata": {
        "id": "pf5ehlNc_Hk5"
      }
    },
    {
      "cell_type": "code",
      "source": [
        "# your implementation of Building"
      ],
      "metadata": {
        "id": "mg2_3Lx8AHQz"
      },
      "execution_count": null,
      "outputs": []
    },
    {
      "cell_type": "code",
      "source": [
        "#test\n",
        "test_width=10\n",
        "test_length=2\n",
        "test_height=30\n",
        "building = Building(width=test_width, length=test_length, height=test_height)\n",
        "assert(building.width==test_width)\n",
        "assert(building.height==test_height)\n",
        "assert(building.length == test_length)\n",
        "assert(building.get_area()==test_width * test_length)\n",
        "assert(building.get_volume()==test_width * test_length * test_height)\n",
        "print(\"passed the tests!\")"
      ],
      "metadata": {
        "colab": {
          "base_uri": "https://localhost:8080/"
        },
        "id": "JLe7IWVVAXAM",
        "outputId": "9f255913-ebb7-4590-f06e-bb620f7a91db"
      },
      "execution_count": null,
      "outputs": [
        {
          "output_type": "stream",
          "name": "stdout",
          "text": [
            "passed the tests!\n"
          ]
        }
      ]
    },
    {
      "cell_type": "markdown",
      "source": [
        "**Bonus**\\\n",
        "\\\n",
        "Add a ```typology``` property to the building, set it to COMMERCIAL.\n"
      ],
      "metadata": {
        "id": "x39ZJ3VfJwiu"
      }
    },
    {
      "cell_type": "code",
      "source": [
        "# your implementation"
      ],
      "metadata": {
        "id": "BXeMr-6tQALx"
      },
      "execution_count": null,
      "outputs": []
    },
    {
      "cell_type": "markdown",
      "source": [
        "A more complex class:"
      ],
      "metadata": {
        "id": "kmVbjXpoQGSH"
      }
    },
    {
      "cell_type": "code",
      "source": [
        "class ResultConstructor:\n",
        "  \"\"\"\n",
        "  Object responsible for constructing the result\n",
        "  \"\"\"\n",
        "  def __init__(self):\n",
        "    \"\"\"\n",
        "    Object constructor. Takes no arguments.\n",
        "    constructor = ResultConstructor()\n",
        "    \"\"\"\n",
        "    self.result = self._reset() # this parameter is constructed internally from the _reset function\n",
        "                                # access: constructor = ResultConstructor()\n",
        "                                #         constructor.result\n",
        "\n",
        "  def _reset(self):\n",
        "    \"\"\"\n",
        "    This function returns the result in the format we define. A dictionary with the keys we want and 0 for all the values initially.\n",
        "    {\n",
        "      \"min\":0,\n",
        "      \"max\": 0,\n",
        "      \"centroid\":0\n",
        "    }\n",
        "    \"\"\"\n",
        "    # How it essentially works:\n",
        "    # return {DogMetrics.MIN.value:0, DogMetrics.MAX.value:0, DogMetrics.CENTROID.value: 0}\n",
        "\n",
        "    # A better way to write it (we don't need to change the code in this module when we add metrics to the enumerator): \n",
        "    # return {x.value: 0 for x in DogMetrics.__members__.values()}\n",
        "\n",
        "    return {DogMetrics.MIN.value:0, \n",
        "            DogMetrics.MAX.value:0, \n",
        "            DogMetrics.CENTROID.value: 0}\n",
        "\n",
        "  def set_min(self, value):\n",
        "    \"\"\"\n",
        "    Setting minimum value in the result parameter.\n",
        "    constructor = ResultConstructor()\n",
        "    constructor.set_min(125)\n",
        "    constructor.result[\"min\"] >> 125\n",
        "    constructor.result[DogMetrics.MIN.value] >> 125\n",
        "    \"\"\"\n",
        "    self.result[DogMetrics.MIN.value] = value\n",
        "\n",
        "  def set_max(self, value):\n",
        "    \"\"\"\n",
        "    Setting maximum value in the result parameter.\n",
        "     constructor = ResultConstructor()\n",
        "    constructor.set_max(125)\n",
        "    constructor.result[\"max\"] >> 125\n",
        "    constructor.result[DogMetrics.MAX.value] >> 125\n",
        "    \"\"\"\n",
        "    self.result[DogMetrics.MAX.value] = value\n",
        "\n",
        "  def set_centroid(self, value):\n",
        "    \"\"\"\n",
        "    Setting centroid value in the result parameter.\n",
        "    constructor = ResultConstructor()\n",
        "    constructor.set_centroid(125)\n",
        "    constructor.result[\"centroid\"] >> 125\n",
        "    constructor.result[DogMetrics.CENTROID.value] >> 125\n",
        "\n",
        "    \"\"\"\n",
        "    self.result[DogMetrics.CENTROID.value] = value\n"
      ],
      "metadata": {
        "id": "8e4kl4uCJiZR"
      },
      "execution_count": null,
      "outputs": []
    },
    {
      "cell_type": "markdown",
      "source": [
        "Instead of writing\\\n",
        "```{\"min\": 123, \"max\": 234, \"centroid\": 45}```\\\n",
        "Or even \\\n",
        "```{ \\\n",
        "DogMetrics.MIN.value: 123, \\\n",
        "  DogMetrics.MAX.value: 234, \\\n",
        "DogMetrics.CENTROID.value: 45 \\\n",
        "}```\\\n",
        "or even\\\n",
        "```constructor = ResultConstructor() \\\n",
        "constructor.result[DogMetrics.MIN.value] = 10```\\\n",
        "we can now write:"
      ],
      "metadata": {
        "id": "cWt_nzfcEq-D"
      }
    },
    {
      "cell_type": "code",
      "source": [
        "constructor = ResultConstructor()\n",
        "constructor.set_min(10)\n",
        "print(constructor.result)"
      ],
      "metadata": {
        "colab": {
          "base_uri": "https://localhost:8080/"
        },
        "id": "gNrpZTkpDvI9",
        "outputId": "5fdd248c-4cad-4cd5-c18d-c20574c9245c"
      },
      "execution_count": null,
      "outputs": [
        {
          "output_type": "stream",
          "name": "stdout",
          "text": [
            "{'min': 10, 'max': 0, 'centroid': 0}\n"
          ]
        }
      ]
    },
    {
      "cell_type": "markdown",
      "source": [
        "## Resource 🤩"
      ],
      "metadata": {
        "id": "SYw0IofHRDEI"
      }
    },
    {
      "cell_type": "markdown",
      "source": [
        "\n",
        "* [mlcourse.ai](https://mlcourse.ai/book/index.html) - the best course. contains practical assignments on kaggle\n",
        "* [Detailed explanation of ML algorithms](https://www.slideshare.net/pierluca.lanzi/)\n",
        "* [Code design patterns](https://refactoring.guru/design-patterns)\n",
        "* [Python OOP](https://www.google.com/search?q=oop+python&oq=oop+python&aqs=chrome..69i57.1820j0j4&sourceid=chrome&ie=UTF-8) 😛 \n"
      ],
      "metadata": {
        "id": "fOkgZOog2tAw"
      }
    },
    {
      "cell_type": "code",
      "source": [],
      "metadata": {
        "id": "bOrkjsD2RCoC"
      },
      "execution_count": null,
      "outputs": []
    }
  ]
}