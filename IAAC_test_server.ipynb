{
  "nbformat": 4,
  "nbformat_minor": 0,
  "metadata": {
    "colab": {
      "provenance": [],
      "authorship_tag": "ABX9TyNFhRw89KRivh+S2ZW02CE2",
      "include_colab_link": true
    },
    "kernelspec": {
      "name": "python3",
      "display_name": "Python 3"
    },
    "language_info": {
      "name": "python"
    }
  },
  "cells": [
    {
      "cell_type": "markdown",
      "metadata": {
        "id": "view-in-github",
        "colab_type": "text"
      },
      "source": [
        "<a href=\"https://colab.research.google.com/github/STASYA00/iaacCodeAndDeploy/blob/main/IAAC_test_server.ipynb\" target=\"_parent\"><img src=\"https://colab.research.google.com/assets/colab-badge.svg\" alt=\"Open In Colab\"/></a>"
      ]
    },
    {
      "cell_type": "markdown",
      "source": [
        "# Testing ngroc server running in Colab"
      ],
      "metadata": {
        "id": "y8xXPiOjYDqO"
      }
    },
    {
      "cell_type": "code",
      "execution_count": null,
      "metadata": {
        "id": "zHnqkjzVXEUO"
      },
      "outputs": [],
      "source": [
        "import requests\n",
        "URL = \"\" # your ngroc url, make sure it has a slash at the end\n",
        "#requests.get(\"https://3c70-34-86-231-153.ngrok.io/pos/1,2,3,4,5,6,7\")\n",
        "\n",
        "test_positions = [1,2,3,4,5,6,7,8]\n",
        "# write any sequence you want separated by the commas\n",
        "# [\"sdfs\", \"sd\"]\n",
        "\n",
        "r = requests.get(URL + \"pos/\" + \",\".join([str(x) for x in test_positions]))\n",
        "# >> Response[200] - if everything goes well"
      ]
    },
    {
      "cell_type": "code",
      "source": [
        "r.json()\n",
        "# Result: {\"pos\":[\"1\",\"2\",\"3\",\"4\",\"5\",\"6\",\"7\"]}"
      ],
      "metadata": {
        "id": "n0kN4SCQYSuY"
      },
      "execution_count": null,
      "outputs": []
    },
    {
      "cell_type": "markdown",
      "source": [
        "## Resources 🤩"
      ],
      "metadata": {
        "id": "vzXCbIju2dSS"
      }
    },
    {
      "cell_type": "markdown",
      "source": [
        "* [Flask](https://flask.palletsprojects.com/en/2.3.x/)\n",
        "* [FastAPI](https://fastapi.tiangolo.com/)\n",
        "* [Testing your server](https://reqbin.com/) (or making requests to any other server)\n"
      ],
      "metadata": {
        "id": "fOkgZOog2tAw"
      }
    }
  ]
}