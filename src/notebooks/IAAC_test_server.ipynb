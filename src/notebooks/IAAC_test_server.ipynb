{
  "cells": [
    {
      "attachments": {},
      "cell_type": "markdown",
      "metadata": {
        "colab_type": "text",
        "id": "view-in-github"
      },
      "source": [
        "<a href=\"https://colab.research.google.com/github/STASYA00/iaacCodeAndDeploy/blob/main/src/notebooks/IAAC_test_server.ipynb\" target=\"_parent\"><img src=\"https://colab.research.google.com/assets/colab-badge.svg\" alt=\"Open In Colab\"/></a>"
      ]
    },
    {
      "attachments": {},
      "cell_type": "markdown",
      "metadata": {
        "id": "y8xXPiOjYDqO"
      },
      "source": [
        "# Testing ngroc server running in Colab"
      ]
    },
    {
      "cell_type": "code",
      "execution_count": null,
      "metadata": {
        "id": "zHnqkjzVXEUO"
      },
      "outputs": [],
      "source": [
        "import requests\n",
        "URL = \"\" # your ngroc url, make sure it has a slash at the end\n",
        "#requests.get(\"https://3c70-34-86-231-153.ngrok.io/pos/1,2,3,4,5,6,7\")\n",
        "\n",
        "test_positions = [1,2,3,4,5,6,7,8]\n",
        "# write any sequence you want separated by the commas\n",
        "# [\"sdfs\", \"sd\"]\n",
        "\n",
        "r = requests.get(URL + \"pos/\" + \",\".join([str(x) for x in test_positions]))\n",
        "# >> Response[200] - if everything goes well"
      ]
    },
    {
      "cell_type": "code",
      "execution_count": null,
      "metadata": {
        "id": "n0kN4SCQYSuY"
      },
      "outputs": [],
      "source": [
        "r.json()\n",
        "# Result: {\"pos\":[\"1\",\"2\",\"3\",\"4\",\"5\",\"6\",\"7\"]}"
      ]
    },
    {
      "attachments": {},
      "cell_type": "markdown",
      "metadata": {
        "id": "vzXCbIju2dSS"
      },
      "source": [
        "## Resources 🤩"
      ]
    },
    {
      "attachments": {},
      "cell_type": "markdown",
      "metadata": {
        "id": "fOkgZOog2tAw"
      },
      "source": [
        "* [Flask](https://flask.palletsprojects.com/en/2.3.x/)\n",
        "* [FastAPI](https://fastapi.tiangolo.com/)\n",
        "* [Testing your server](https://reqbin.com/) (or making requests to any other server)\n"
      ]
    }
  ],
  "metadata": {
    "colab": {
      "authorship_tag": "ABX9TyNFhRw89KRivh+S2ZW02CE2",
      "include_colab_link": true,
      "provenance": []
    },
    "kernelspec": {
      "display_name": "Python 3",
      "name": "python3"
    },
    "language_info": {
      "name": "python"
    }
  },
  "nbformat": 4,
  "nbformat_minor": 0
}
