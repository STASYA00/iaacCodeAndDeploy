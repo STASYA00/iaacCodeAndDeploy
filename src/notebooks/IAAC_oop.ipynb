{
  "cells": [
    {
      "attachments": {},
      "cell_type": "markdown",
      "metadata": {
        "colab_type": "text",
        "id": "view-in-github"
      },
      "source": [
        "<a href=\"https://colab.research.google.com/github/STASYA00/iaacCodeAndDeploy/blob/main/src/notebooks/IAAC_oop.ipynb\" target=\"_parent\"><img src=\"https://colab.research.google.com/assets/colab-badge.svg\" alt=\"Open In Colab\"/></a>"
      ]
    },
    {
      "attachments": {},
      "cell_type": "markdown",
      "metadata": {
        "id": "F3vM7bgVIje3"
      },
      "source": [
        "# IAAC - Architecture and Urban Design - OOP"
      ]
    },
    {
      "attachments": {},
      "cell_type": "markdown",
      "metadata": {
        "id": "oWRdsA8QAFtr"
      },
      "source": [
        "### Some ~~obligatory~~ good practices - OOP 🔥\n",
        "\n",
        "Object-Oriented Programming.\\\n",
        "*Google it to know more about the idea*\\\n",
        "\\\n",
        "The idea is to write code that is modular. Think about it as about a modular building: complex space with multiple functions composed of simple monofunctional blocks. Benefit: blocks can be combined in any way you like + you can easily substitute one block with another one. Or change the internal composition of a block - and all the instances of it will be replaced together.\\\n",
        "\\\n",
        "Objects are the code's modules.\\\n",
        "\\\n",
        "The main principle you need to know about now:\n",
        "* One object - one responsibility"
      ]
    },
    {
      "attachments": {},
      "cell_type": "markdown",
      "metadata": {
        "id": "qoOSjedd7KyU"
      },
      "source": [
        "![img](https://d2g3qskbb0hwf.cloudfront.net/eyJidWNrZXQiOiJ1bmktcHJvamVjdHMiLCJrZXkiOiI3LzA1NDQ3OTU4LWJlZTEtNGM5MC04NGFlLTQwZjY5OWFiZmU4ZS9rYXR5YTY5MjAyMC0xMC0yOVQwMC0zNy0xOC01NzA2MDUuanBnIiwiZWRpdHMiOnsicmVzaXplIjp7IndpZHRoIjoxNDQwLCJmaXQiOiJjb3ZlciJ9LCJmbGF0dGVuIjpmYWxzZSwibm9ybWFsaXNlIjpmYWxzZX19)"
      ]
    },
    {
      "cell_type": "code",
      "execution_count": null,
      "metadata": {
        "id": "UTYRs3t_IjQv"
      },
      "outputs": [],
      "source": [
        "from enum import Enum\n",
        "# Enumerator - so that we don't write dictionary keys many times (avoiding unnecessary bugs!)\n",
        "\n",
        "\n",
        "class DogMetrics(Enum):\n",
        "  MIN=\"min\"\n",
        "  MAX= \"max\"\n",
        "  CENTROID=\"centroid\"\n",
        "\n",
        "# How to use:\n",
        "DogMetrics.MIN.value"
      ]
    },
    {
      "attachments": {},
      "cell_type": "markdown",
      "metadata": {
        "id": "WqKuF_idCama"
      },
      "source": [
        "**Exercise**\\\n",
        "\\\n",
        "Write an enumerator BuildingTypes. 🏘\\\n",
        "\\\n",
        "BuildingTypes should have types ```COMMERCIAL```, ```RESIDENTIAL```, ```INDUSTRIAL```\\\n",
        "You can set any values you want \n"
      ]
    },
    {
      "cell_type": "code",
      "execution_count": null,
      "metadata": {
        "id": "yslWla0FIYCI"
      },
      "outputs": [],
      "source": [
        "# your BuildingTypes implementation"
      ]
    },
    {
      "cell_type": "code",
      "execution_count": null,
      "metadata": {
        "id": "-F2edHQuI9ec"
      },
      "outputs": [],
      "source": [
        "# test\n",
        "assert(len(BuildingTypes.__members__.values())==3)\n",
        "assert(\"Commercial\".upper() in BuildingTypes.__members__.keys())\n",
        "assert(\"Industrial\".upper() in BuildingTypes.__members__.keys())\n",
        "assert(\"Residential\".upper() in BuildingTypes.__members__.keys())\n",
        "print(\"test passed\")"
      ]
    },
    {
      "attachments": {},
      "cell_type": "markdown",
      "metadata": {
        "id": "hgM96mJqJy5E"
      },
      "source": [
        "### Classes vs Functions"
      ]
    },
    {
      "attachments": {},
      "cell_type": "markdown",
      "metadata": {
        "id": "zJcHnsOqJ1h_"
      },
      "source": [
        "What is the difference? \\\n",
        "You can think about a function as about an action that you perform. In fact, names of the functions are usually verbs (e.g. ```make``` ```extract_data``` etc.). Classes allow you to create *objects* - that could have properties, just like objects in the real world. So an object ```Building``` could have height, length, width, typology, carbon emission. Just like in the real world, objects can perform *actions* - functions. So a dog can bark, a building can be built etc."
      ]
    },
    {
      "cell_type": "code",
      "execution_count": 11,
      "metadata": {
        "id": "00nvDWYLKvQ6"
      },
      "outputs": [],
      "source": [
        "# example of a function\n",
        "# DOES NOT CONTAIN ANY PROPERTIES\n",
        "def run():\n",
        "  # do any action\n",
        "  return 12\n"
      ]
    },
    {
      "cell_type": "code",
      "execution_count": 1,
      "metadata": {
        "id": "YriZBn02K5wZ"
      },
      "outputs": [],
      "source": [
        "class Dog:\n",
        "  def __init__(self):\n",
        "    \"\"\"\n",
        "    Constructor of the class. This is just the code that is being called every \n",
        "    time you make 'a new dog', automatically.\n",
        "    \"\"\"\n",
        "    self.name = \"Kevin\"  # self refers to this particular dog\n",
        "                         # name is the property of the dog that we want to set\n",
        "\n",
        "# How to use:\n",
        "dog = Dog()\n",
        "print(dog.name) # this property is stored throughout the entire session \n",
        "# >> Kevin"
      ]
    },
    {
      "attachments": {},
      "cell_type": "markdown",
      "metadata": {
        "id": "Bgi9G_oJLzxM"
      },
      "source": [
        "You can change the dog's name:"
      ]
    },
    {
      "cell_type": "code",
      "execution_count": null,
      "metadata": {
        "id": "qFroolxoLyve"
      },
      "outputs": [],
      "source": [
        "dog.name = \"Marvin\"\n",
        "print(dog.name) # this property is stored throughout the entire session \n",
        "# >> Marvin"
      ]
    },
    {
      "attachments": {},
      "cell_type": "markdown",
      "metadata": {
        "id": "crJALVAILoff"
      },
      "source": [
        "What happens if I have many dogs, and all of them have different names? Or many buildings with different addresses? I don't want to assign their names manually and write many lines with ```dog1```, ```dog2``` etc. \\\n",
        "\n",
        "We can pass this argument when we *create* a new ```Dog``` - remember, there is one function that anyway runs anytime we create a new ```Dog```:"
      ]
    },
    {
      "cell_type": "code",
      "execution_count": 4,
      "metadata": {
        "colab": {
          "base_uri": "https://localhost:8080/"
        },
        "id": "SIux-h59MJ-m",
        "outputId": "8fba3f09-2c37-4241-8714-24a711422fe4"
      },
      "outputs": [
        {
          "name": "stdout",
          "output_type": "stream",
          "text": [
            "Kevin\n"
          ]
        }
      ],
      "source": [
        "class Dog:\n",
        "  def __init__(self, name): \n",
        "    self.name = name # we can pass this property to the dog as soon as it's 'born', from the outside\n",
        "\n",
        "dog = Dog(\"Kevin\")\n",
        "print(dog.name) # this property is stored throughout the entire session \n",
        "# >> Kevin"
      ]
    },
    {
      "attachments": {},
      "cell_type": "markdown",
      "metadata": {
        "id": "jHZUbk8RMuuD"
      },
      "source": [
        "So if I have many names of the dogs:"
      ]
    },
    {
      "cell_type": "code",
      "execution_count": 5,
      "metadata": {
        "id": "xener-NgMJ1i"
      },
      "outputs": [],
      "source": [
        "dog_names = [\"Amber\", \"Chris\", \"Marvin\", \"Kevin\", \"John\", \"Marco\", \"Anna\", \"Colin\"]"
      ]
    },
    {
      "cell_type": "code",
      "execution_count": 9,
      "metadata": {
        "colab": {
          "base_uri": "https://localhost:8080/"
        },
        "id": "2qHTLgvhM-qh",
        "outputId": "7d86eecd-b5f3-42fc-a1d0-0a7040e3364e"
      },
      "outputs": [
        {
          "name": "stdout",
          "output_type": "stream",
          "text": [
            "Marco\n"
          ]
        }
      ],
      "source": [
        "dogs = []\n",
        "for name in dog_names:\n",
        "  dogs.append(Dog(name))\n",
        "\n",
        "print(dogs[5].name)\n",
        "# >> Marco"
      ]
    },
    {
      "attachments": {},
      "cell_type": "markdown",
      "metadata": {
        "id": "wnaUknDgNUYy"
      },
      "source": [
        "If there is one property that is *almost* always the same, we can pass a default value of it, so that we don't write it every time. Imagine, there are many dogs with the name Leonardo:"
      ]
    },
    {
      "cell_type": "code",
      "execution_count": 10,
      "metadata": {
        "colab": {
          "base_uri": "https://localhost:8080/"
        },
        "id": "mlcRxPjmNiKF",
        "outputId": "6c0b27fa-ac4c-43ae-e005-9cfb58e9eaf2"
      },
      "outputs": [
        {
          "name": "stdout",
          "output_type": "stream",
          "text": [
            "Kevin\n",
            "Leonardo\n"
          ]
        }
      ],
      "source": [
        "class Dog:\n",
        "  def __init__(self, name=\"Leonardo\"): \n",
        "    self.name = name # if we do not pass any name, it will assign Leonardo\n",
        "\n",
        "dog = Dog(\"Kevin\")\n",
        "print(dog.name) # this property is stored throughout the entire session \n",
        "# >> Kevin\n",
        "\n",
        "dog = Dog()\n",
        "print(dog.name) # this property is stored throughout the entire session \n",
        "# >> Leonardo"
      ]
    },
    {
      "attachments": {},
      "cell_type": "markdown",
      "metadata": {
        "id": "K4w0gszjOB1I"
      },
      "source": [
        "In the real world objects can also perform actions: people can move and talk, dogs bark, buildings become heated or use electricity (kind of). Objects in python can have their own actions too. It's exactly like defining a normal function, but you write it inside the class. As a bonus, this action knows all the information about the object's properties, e.g. the name of the dog:"
      ]
    },
    {
      "cell_type": "code",
      "execution_count": 14,
      "metadata": {
        "colab": {
          "base_uri": "https://localhost:8080/",
          "height": 36
        },
        "id": "iaGQ0TX3OARH",
        "outputId": "b334493c-d713-40c3-bbca-e6dccab50cba"
      },
      "outputs": [
        {
          "data": {
            "application/vnd.google.colaboratory.intrinsic+json": {
              "type": "string"
            },
            "text/plain": [
              "'V'"
            ]
          },
          "execution_count": 14,
          "metadata": {},
          "output_type": "execute_result"
        }
      ],
      "source": [
        "class Dog:\n",
        "  def __init__(self, name=\"Leonardo\"): \n",
        "    self.name = name # if we do not pass any name, it will assign Leonardo\n",
        "\n",
        "  def bark(self):\n",
        "    # self here refers to this particular dog\n",
        "    return \"V\"\n",
        "\n",
        "# How to use:\n",
        "dog = Dog()\n",
        "dog.bark()\n",
        "# >> 'V'"
      ]
    },
    {
      "cell_type": "code",
      "execution_count": 15,
      "metadata": {
        "colab": {
          "base_uri": "https://localhost:8080/",
          "height": 36
        },
        "id": "J4brngX5OwyH",
        "outputId": "f1b4fee4-59a2-4fcc-928d-d39ae51bae3f"
      },
      "outputs": [
        {
          "data": {
            "application/vnd.google.colaboratory.intrinsic+json": {
              "type": "string"
            },
            "text/plain": [
              "'Leonardo'"
            ]
          },
          "execution_count": 15,
          "metadata": {},
          "output_type": "execute_result"
        }
      ],
      "source": [
        "class Dog:\n",
        "  def __init__(self, name=\"Leonardo\"): \n",
        "    self.name = name # if we do not pass any name, it will assign Leonardo\n",
        "\n",
        "  def bark(self):\n",
        "    # self here refers to this particular dog\n",
        "    return self.name\n",
        "\n",
        "# How to use:\n",
        "dog = Dog()\n",
        "dog.bark()\n",
        "# >> 'Leonardo'"
      ]
    },
    {
      "attachments": {},
      "cell_type": "markdown",
      "metadata": {
        "id": "8kkZRK-KO3fE"
      },
      "source": [
        "You can pass your own parameters to the function:"
      ]
    },
    {
      "cell_type": "code",
      "execution_count": 18,
      "metadata": {
        "colab": {
          "base_uri": "https://localhost:8080/"
        },
        "id": "ussT2Y0hO7wV",
        "outputId": "75bc09c0-195c-40b9-8c1e-ef3d579b0b02"
      },
      "outputs": [
        {
          "name": "stdout",
          "output_type": "stream",
          "text": [
            "Leonardo sits\n",
            "Leonardo stands\n"
          ]
        }
      ],
      "source": [
        "class Dog:\n",
        "  def __init__(self, name=\"Leonardo\"): \n",
        "    self.name = name # if we do not pass any name, it will assign Leonardo\n",
        "\n",
        "  def bark(self, action=\"sits\"):\n",
        "    # self here refers to this particular dog\n",
        "    return self.name + \" \" + action\n",
        "\n",
        "# How to use:\n",
        "dog = Dog()\n",
        "print(dog.bark())\n",
        "# >> 'Leonardo sits'\n",
        "print(dog.bark(\"stands\"))\n",
        "# >> 'Leonardo stands'"
      ]
    },
    {
      "cell_type": "code",
      "execution_count": 19,
      "metadata": {
        "colab": {
          "base_uri": "https://localhost:8080/"
        },
        "id": "ZTDrIgOoPQll",
        "outputId": "4b3b47c5-ba2a-4c93-d3f5-017f466d7747"
      },
      "outputs": [
        {
          "name": "stdout",
          "output_type": "stream",
          "text": [
            "1\n"
          ]
        }
      ],
      "source": [
        "class Dog:\n",
        "  def __init__(self, name=\"Leonardo\"): \n",
        "    self.name = name # if we do not pass any name, it will assign Leonardo\n",
        "\n",
        "  def bark(self, action=\"sits\"):\n",
        "    result = 1\n",
        "    # Your most complex function with a huggingface segmentation model\n",
        "    return result\n",
        "\n",
        "# How to use:\n",
        "dog = Dog()\n",
        "print(dog.bark())\n",
        "# >> 1 or whatever the output of your segmentation model is"
      ]
    },
    {
      "attachments": {},
      "cell_type": "markdown",
      "metadata": {
        "id": "pf5ehlNc_Hk5"
      },
      "source": [
        "**Exercise**\\\n",
        "\\\n",
        "Write a class Building. 🏘\\\n",
        "\\\n",
        "Building should have properties ```width```, ```length```, ```height```\\\n",
        "We want to calculate Building's footprint's area (we assume that it's rectangular) with ```get_area``` method\\\n",
        "We want to calculate Building's volume (we assume that it's a prism) with ```get_volume``` method"
      ]
    },
    {
      "cell_type": "code",
      "execution_count": null,
      "metadata": {
        "id": "mg2_3Lx8AHQz"
      },
      "outputs": [],
      "source": [
        "# your implementation of Building"
      ]
    },
    {
      "cell_type": "code",
      "execution_count": null,
      "metadata": {
        "colab": {
          "base_uri": "https://localhost:8080/"
        },
        "id": "JLe7IWVVAXAM",
        "outputId": "9f255913-ebb7-4590-f06e-bb620f7a91db"
      },
      "outputs": [
        {
          "name": "stdout",
          "output_type": "stream",
          "text": [
            "passed the tests!\n"
          ]
        }
      ],
      "source": [
        "#test\n",
        "test_width=10\n",
        "test_length=2\n",
        "test_height=30\n",
        "building = Building(width=test_width, length=test_length, height=test_height)\n",
        "assert(building.width==test_width)\n",
        "assert(building.height==test_height)\n",
        "assert(building.length == test_length)\n",
        "assert(building.get_area()==test_width * test_length)\n",
        "assert(building.get_volume()==test_width * test_length * test_height)\n",
        "print(\"passed the tests!\")"
      ]
    },
    {
      "attachments": {},
      "cell_type": "markdown",
      "metadata": {
        "id": "x39ZJ3VfJwiu"
      },
      "source": [
        "**Bonus**\\\n",
        "\\\n",
        "Add a ```typology``` property to the building, set it to COMMERCIAL.\n"
      ]
    },
    {
      "cell_type": "code",
      "execution_count": null,
      "metadata": {
        "id": "BXeMr-6tQALx"
      },
      "outputs": [],
      "source": [
        "# your implementation"
      ]
    },
    {
      "attachments": {},
      "cell_type": "markdown",
      "metadata": {
        "id": "kmVbjXpoQGSH"
      },
      "source": [
        "A more complex class:"
      ]
    },
    {
      "cell_type": "code",
      "execution_count": null,
      "metadata": {
        "id": "8e4kl4uCJiZR"
      },
      "outputs": [],
      "source": [
        "class ResultConstructor:\n",
        "  \"\"\"\n",
        "  Object responsible for constructing the result\n",
        "  \"\"\"\n",
        "  def __init__(self):\n",
        "    \"\"\"\n",
        "    Object constructor. Takes no arguments.\n",
        "    constructor = ResultConstructor()\n",
        "    \"\"\"\n",
        "    self.result = self._reset() # this parameter is constructed internally from the _reset function\n",
        "                                # access: constructor = ResultConstructor()\n",
        "                                #         constructor.result\n",
        "\n",
        "  def _reset(self):\n",
        "    \"\"\"\n",
        "    This function returns the result in the format we define. A dictionary with the keys we want and 0 for all the values initially.\n",
        "    {\n",
        "      \"min\":0,\n",
        "      \"max\": 0,\n",
        "      \"centroid\":0\n",
        "    }\n",
        "    \"\"\"\n",
        "    # How it essentially works:\n",
        "    # return {DogMetrics.MIN.value:0, DogMetrics.MAX.value:0, DogMetrics.CENTROID.value: 0}\n",
        "\n",
        "    # A better way to write it (we don't need to change the code in this module when we add metrics to the enumerator): \n",
        "    # return {x.value: 0 for x in DogMetrics.__members__.values()}\n",
        "\n",
        "    return {DogMetrics.MIN.value:0, \n",
        "            DogMetrics.MAX.value:0, \n",
        "            DogMetrics.CENTROID.value: 0}\n",
        "\n",
        "  def set_min(self, value):\n",
        "    \"\"\"\n",
        "    Setting minimum value in the result parameter.\n",
        "    constructor = ResultConstructor()\n",
        "    constructor.set_min(125)\n",
        "    constructor.result[\"min\"] >> 125\n",
        "    constructor.result[DogMetrics.MIN.value] >> 125\n",
        "    \"\"\"\n",
        "    self.result[DogMetrics.MIN.value] = value\n",
        "\n",
        "  def set_max(self, value):\n",
        "    \"\"\"\n",
        "    Setting maximum value in the result parameter.\n",
        "     constructor = ResultConstructor()\n",
        "    constructor.set_max(125)\n",
        "    constructor.result[\"max\"] >> 125\n",
        "    constructor.result[DogMetrics.MAX.value] >> 125\n",
        "    \"\"\"\n",
        "    self.result[DogMetrics.MAX.value] = value\n",
        "\n",
        "  def set_centroid(self, value):\n",
        "    \"\"\"\n",
        "    Setting centroid value in the result parameter.\n",
        "    constructor = ResultConstructor()\n",
        "    constructor.set_centroid(125)\n",
        "    constructor.result[\"centroid\"] >> 125\n",
        "    constructor.result[DogMetrics.CENTROID.value] >> 125\n",
        "\n",
        "    \"\"\"\n",
        "    self.result[DogMetrics.CENTROID.value] = value\n"
      ]
    },
    {
      "attachments": {},
      "cell_type": "markdown",
      "metadata": {
        "id": "cWt_nzfcEq-D"
      },
      "source": [
        "Instead of writing\\\n",
        "```{\"min\": 123, \"max\": 234, \"centroid\": 45}```\\\n",
        "Or even \\\n",
        "```{ \\\n",
        "DogMetrics.MIN.value: 123, \\\n",
        "  DogMetrics.MAX.value: 234, \\\n",
        "DogMetrics.CENTROID.value: 45 \\\n",
        "}```\\\n",
        "or even\\\n",
        "```constructor = ResultConstructor() \\\n",
        "constructor.result[DogMetrics.MIN.value] = 10```\\\n",
        "we can now write:"
      ]
    },
    {
      "cell_type": "code",
      "execution_count": null,
      "metadata": {
        "colab": {
          "base_uri": "https://localhost:8080/"
        },
        "id": "gNrpZTkpDvI9",
        "outputId": "5fdd248c-4cad-4cd5-c18d-c20574c9245c"
      },
      "outputs": [
        {
          "name": "stdout",
          "output_type": "stream",
          "text": [
            "{'min': 10, 'max': 0, 'centroid': 0}\n"
          ]
        }
      ],
      "source": [
        "constructor = ResultConstructor()\n",
        "constructor.set_min(10)\n",
        "print(constructor.result)"
      ]
    },
    {
      "attachments": {},
      "cell_type": "markdown",
      "metadata": {
        "id": "SYw0IofHRDEI"
      },
      "source": [
        "## Resource 🤩"
      ]
    },
    {
      "attachments": {},
      "cell_type": "markdown",
      "metadata": {
        "id": "fOkgZOog2tAw"
      },
      "source": [
        "\n",
        "* [mlcourse.ai](https://mlcourse.ai/book/index.html) - the best course. contains practical assignments on kaggle\n",
        "* [Detailed explanation of ML algorithms](https://www.slideshare.net/pierluca.lanzi/)\n",
        "* [Code design patterns](https://refactoring.guru/design-patterns)\n",
        "* [Python OOP](https://www.google.com/search?q=oop+python&oq=oop+python&aqs=chrome..69i57.1820j0j4&sourceid=chrome&ie=UTF-8) 😛 \n"
      ]
    },
    {
      "cell_type": "code",
      "execution_count": null,
      "metadata": {
        "id": "bOrkjsD2RCoC"
      },
      "outputs": [],
      "source": []
    }
  ],
  "metadata": {
    "colab": {
      "authorship_tag": "ABX9TyPAz9GecXE3u+xuEikt+NXQ",
      "include_colab_link": true,
      "provenance": []
    },
    "kernelspec": {
      "display_name": "Python 3",
      "name": "python3"
    },
    "language_info": {
      "name": "python"
    }
  },
  "nbformat": 4,
  "nbformat_minor": 0
}
