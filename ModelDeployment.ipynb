{
  "nbformat": 4,
  "nbformat_minor": 0,
  "metadata": {
    "colab": {
      "provenance": [],
      "collapsed_sections": [
        "oWRdsA8QAFtr",
        "YoZ6SywEL-ld"
      ],
      "authorship_tag": "ABX9TyNtCqWioztkS9GF6Xc+DV1+",
      "include_colab_link": true
    },
    "kernelspec": {
      "name": "python3",
      "display_name": "Python 3"
    },
    "language_info": {
      "name": "python"
    }
  },
  "cells": [
    {
      "cell_type": "markdown",
      "metadata": {
        "id": "view-in-github",
        "colab_type": "text"
      },
      "source": [
        "<a href=\"https://colab.research.google.com/github/STASYA00/iaacCodeAndDeploy/blob/main/ModelDeployment.ipynb\" target=\"_parent\"><img src=\"https://colab.research.google.com/assets/colab-badge.svg\" alt=\"Open In Colab\"/></a>"
      ]
    },
    {
      "cell_type": "markdown",
      "source": [
        "# Getting your model out of GoogleSlides presentation! ⭐ 💥"
      ],
      "metadata": {
        "id": "iBRAee3y8syI"
      }
    },
    {
      "cell_type": "markdown",
      "source": [
        "![img](https://www.jmmnews.com/wp-content/uploads/2015/11/theory-practice-chalkboard-banner-1140x410.jpg)"
      ],
      "metadata": {
        "id": "-P-xE0HI5dLU"
      }
    },
    {
      "cell_type": "markdown",
      "source": [
        "Making a demo includes a few simple steps:\n",
        "1. Defining the desired input and output\n",
        "1. DEFNING THE ARCHITECTURE (of the code ofc)\n",
        "1. Preparing the model for serving\n",
        "1. Making a server\n",
        "1. Testing the server\n",
        "1. Ready!\n",
        "1. ~~Preferrably setting it on the cloud~~"
      ],
      "metadata": {
        "id": "lCexzjI584rU"
      }
    },
    {
      "cell_type": "markdown",
      "source": [
        "## DogHunt 🐕 🌭"
      ],
      "metadata": {
        "id": "RPLPrzj5-MAe"
      }
    },
    {
      "cell_type": "markdown",
      "source": [
        "![img](https://mlcourse.ai/_images/no_ml_meme.jpg)"
      ],
      "metadata": {
        "id": "ntfF3bTm1gAC"
      }
    },
    {
      "cell_type": "markdown",
      "source": [
        "We want to detect homeless dogs in the city and find locations with the highest homeless dogs' density. This way we will be able to communicate the coordinates to the municipality and they can deal with the homeless dogs problem more efficiently.\\\n",
        "\\\n",
        "__MVP description:__ describe dogs clusters with meaningful metrics (distance from the center of the cluster, max distance between the points in the cluster, min distance between the points in the cluster)\\\n",
        "\\\n",
        "__Input:__ positions of the dogs ```list<float, float> [[x1,y1],[x2,y2]]```\\\n",
        "\\\n",
        "__Output:__ dictionary with the metrics ```{\"min\": float, \"max\": float, \"centroid\": float}```"
      ],
      "metadata": {
        "id": "PTvFY0Ib-UqU"
      }
    },
    {
      "cell_type": "markdown",
      "source": [
        "______________________________________"
      ],
      "metadata": {
        "id": "JToQm228TfWw"
      }
    },
    {
      "cell_type": "markdown",
      "source": [
        "You don't need neither to read or understand the code in the next section. It's a simple class architecture is written specifically for this usecase and the import of the packages to run the server on Colab. \\\n",
        "\n",
        "To understand the code and know more about Classes in python use this:\n",
        "<div>\n",
        "<a href=\"https://colab.research.google.com/github/STASYA00/iaacCodeAndDeploy/blob/main/IAAC_oop.ipynb\"><img src=\"https://colab.research.google.com/assets/colab-badge.svg\\\" alt=\\\"Open In Colab\\\"/></a></div>\n",
        "\n",
        "\n",
        "**WHY to have this section?** \\\n",
        "Colab is not a perfect tool for this kind of development. It often stops running and all the cells and imports have to be rerun again. You can simply run all the cells in the section by clicking on the ```Run``` near the title 😀"
      ],
      "metadata": {
        "id": "75xhl52OTiJJ"
      }
    },
    {
      "cell_type": "markdown",
      "source": [
        "## Code to run for the server to work"
      ],
      "metadata": {
        "id": "QLI_LKI0TUdV"
      }
    },
    {
      "cell_type": "markdown",
      "source": [
        "### Example class structure 🔥\n",
        "\n",
        "Object-Oriented Programming.\\\n",
        "*Google it to know more about the idea*\\\n",
        "\\\n",
        "OR look at this notebook\n",
        "<div>\n",
        "<a href=\"https://colab.research.google.com/github/STASYA00/iaacCodeAndDeploy/blob/main/IAAC_oop.ipynb\"><img src=\"https://colab.research.google.com/assets/colab-badge.svg\\\" alt=\\\"Open In Colab\\\"/></a></div>\n",
        "\n",
        " to understand what classes are and how to use them. Game-changing experience.\n",
        "\\\n",
        "\\\n",
        "This is the code structure that I imagined for my application. Note: there is no ONE RIGHT SOLUTION, different people write code in different ways."
      ],
      "metadata": {
        "id": "oWRdsA8QAFtr"
      }
    },
    {
      "cell_type": "code",
      "source": [
        "from enum import Enum\n",
        "# Enumerator - so that we don't write dictionary keys many times (avoiding unnecessary bugs!)\n",
        "\n",
        "\n",
        "class DogMetrics(Enum):\n",
        "  MIN=\"min\"\n",
        "  MAX= \"max\"\n",
        "  CENTROID=\"centroid\"\n",
        "\n",
        "# How to use:\n",
        "DogMetrics.MIN.value"
      ],
      "metadata": {
        "colab": {
          "base_uri": "https://localhost:8080/",
          "height": 0
        },
        "id": "3agqXE6-_3TV",
        "outputId": "2af5b818-6c53-4698-c7f3-b5f52d868b0b"
      },
      "execution_count": 1,
      "outputs": [
        {
          "output_type": "execute_result",
          "data": {
            "text/plain": [
              "'min'"
            ],
            "application/vnd.google.colaboratory.intrinsic+json": {
              "type": "string"
            }
          },
          "metadata": {},
          "execution_count": 1
        }
      ]
    },
    {
      "cell_type": "code",
      "source": [
        "class Metric:\n",
        "  \"\"\"\n",
        "  Example of an object.\n",
        "  Advantage: keeping all the responsibility around a concept in one place\n",
        "  Easy to debug :)\n",
        "  \"\"\"\n",
        "  def __init__(self, name):\n",
        "    # Constructor, runs automatically when the object is constructed (metric = Metric(name=\"metricname\"))\n",
        "    self.name = name  # class property set in the constructor\n",
        "                      # accessed: \n",
        "                      #\n",
        "                      # metric = Metric(name=\"metricname\")\n",
        "                      # print(metric.name)\n",
        "                      # >> \"metricname\"\n",
        "    self.value = \"123\" # class property, set inside\n",
        "                      # accessed: \n",
        "                      # metric = Metric(name=\"metricname\")\n",
        "                      # print(metric.value)\n",
        "                      # >> \"123\"\n",
        "    \n",
        "  def make(self):\n",
        "    # method of the object. Accessed: \n",
        "    # metric = Metric(name=\"anothermetric\")\n",
        "    # metric.make()\n",
        "    # >> \"anothermetric\"\n",
        "    # self that you write is the reference to the object itself\n",
        "    # it allows to access other methods and properties that you define:\n",
        "    return self.name \n",
        "\n",
        "metric = Metric(\"somemetric\")\n",
        "print(\"Property name\", metric.name)\n",
        "print(\"Method make:\", metric.make())\n",
        "metric.name = \"Dog\" # normally there are better ways to set properties, but we do like this for now!\n",
        "print(\"-\" * 15)\n",
        "print(\"Property name\", metric.name)\n",
        "print(\"Method make:\", metric.make())"
      ],
      "metadata": {
        "colab": {
          "base_uri": "https://localhost:8080/"
        },
        "id": "junuByZi8ZTS",
        "outputId": "5f8257a4-8145-4667-82b3-98ed6a44e939"
      },
      "execution_count": 2,
      "outputs": [
        {
          "output_type": "stream",
          "name": "stdout",
          "text": [
            "Property name somemetric\n",
            "Method make: somemetric\n",
            "---------------\n",
            "Property name Dog\n",
            "Method make: Dog\n"
          ]
        }
      ]
    },
    {
      "cell_type": "code",
      "source": [
        "class ResultConstructor:\n",
        "  \"\"\"\n",
        "  Object responsible for constructing the result\n",
        "  \"\"\"\n",
        "  def __init__(self):\n",
        "    \"\"\"\n",
        "    Object constructor. Takes no arguments.\n",
        "    constructor = ResultConstructor()\n",
        "    \"\"\"\n",
        "    self.result = self._reset() # this parameter is constructed internally from the _reset function\n",
        "                                # access: constructor = ResultConstructor()\n",
        "                                #         constructor.result\n",
        "\n",
        "  def _reset(self):\n",
        "    \"\"\"\n",
        "    This function returns the result in the format we define. A dictionary with the keys we want and 0 for all the values initially.\n",
        "    {\n",
        "      \"min\":0,\n",
        "      \"max\": 0,\n",
        "      \"centroid\":0\n",
        "    }\n",
        "    \"\"\"\n",
        "    # How it essentially works:\n",
        "    # return {DogMetrics.MIN.value:0, DogMetrics.MAX.value:0, DogMetrics.CENTROID.value: 0}\n",
        "\n",
        "    # A better way to write it (we don't need to change the code in this module when we add metrics to the enumerator): \n",
        "    # return {x.value: 0 for x in DogMetrics.__members__.values()}\n",
        "\n",
        "    return {DogMetrics.MIN.value:0, \n",
        "            DogMetrics.MAX.value:0, \n",
        "            DogMetrics.CENTROID.value: 0}\n",
        "\n",
        "  def set_min(self, value):\n",
        "    \"\"\"\n",
        "    Setting minimum value in the result parameter.\n",
        "    constructor = ResultConstructor()\n",
        "    constructor.set_min(125)\n",
        "    constructor.result[\"min\"] >> 125\n",
        "    constructor.result[DogMetrics.MIN.value] >> 125\n",
        "    \"\"\"\n",
        "    self.result[DogMetrics.MIN.value] = value\n",
        "\n",
        "  def set_max(self, value):\n",
        "    \"\"\"\n",
        "    Setting maximum value in the result parameter.\n",
        "     constructor = ResultConstructor()\n",
        "    constructor.set_max(125)\n",
        "    constructor.result[\"max\"] >> 125\n",
        "    constructor.result[DogMetrics.MAX.value] >> 125\n",
        "    \"\"\"\n",
        "    self.result[DogMetrics.MAX.value] = value\n",
        "\n",
        "  def set_centroid(self, value):\n",
        "    \"\"\"\n",
        "    Setting centroid value in the result parameter.\n",
        "    constructor = ResultConstructor()\n",
        "    constructor.set_centroid(125)\n",
        "    constructor.result[\"centroid\"] >> 125\n",
        "    constructor.result[DogMetrics.CENTROID.value] >> 125\n",
        "\n",
        "    \"\"\"\n",
        "    self.result[DogMetrics.CENTROID.value] = value\n"
      ],
      "metadata": {
        "id": "QBRXXWlTBeBL"
      },
      "execution_count": 3,
      "outputs": []
    },
    {
      "cell_type": "markdown",
      "source": [
        "Instead of writing\\\n",
        "```{\"min\": 123, \"max\": 234, \"centroid\": 45}```\\\n",
        "Or even \\\n",
        "```{ \\\n",
        "DogMetrics.MIN.value: 123, \\\n",
        "  DogMetrics.MAX.value: 234, \\\n",
        "DogMetrics.CENTROID.value: 45 \\\n",
        "}```\\\n",
        "or even\\\n",
        "```constructor = ResultConstructor() \\\n",
        "constructor.result[DogMetrics.MIN.value] = 10```\\\n",
        "we can now write:"
      ],
      "metadata": {
        "id": "cWt_nzfcEq-D"
      }
    },
    {
      "cell_type": "code",
      "source": [
        "constructor = ResultConstructor()\n",
        "constructor.set_min(10)\n",
        "print(constructor.result)"
      ],
      "metadata": {
        "colab": {
          "base_uri": "https://localhost:8080/"
        },
        "id": "gNrpZTkpDvI9",
        "outputId": "9547fb75-27d0-4621-a03d-09acfc77b5e5"
      },
      "execution_count": 4,
      "outputs": [
        {
          "output_type": "stream",
          "name": "stdout",
          "text": [
            "{'min': 10, 'max': 0, 'centroid': 0}\n"
          ]
        }
      ]
    },
    {
      "cell_type": "code",
      "source": [
        "import numpy as np\n",
        "\n",
        "class ResultCalculator:\n",
        "  \"\"\"\n",
        "  Object responsible for the calculations of the metrics.\n",
        "  Contains functions that calculate the metrics.\n",
        "\n",
        "  Instead of writing \n",
        "  def function1():\n",
        "    return\n",
        "  def function2():\n",
        "    return\n",
        "\n",
        "  We put these functions inside an object, so it becomes easier to access them in one place.\n",
        "  \n",
        "  NOTE:\n",
        "\n",
        "  I don't write an __init__ here\n",
        "  because we will only have static methods here.\n",
        "\n",
        "  More about static methods here:\n",
        "  https://www.digitalocean.com/community/tutorials/python-static-method\n",
        "  \"\"\"\n",
        "  @staticmethod\n",
        "  def make(positions):\n",
        "    # \\@staticmethod means that the function is called without the object:\n",
        "    # ResultCalculator.make(positions)\n",
        "    # Note: there is no self in the function argument list\n",
        "    #       and there are no parenthesis when you call ResultCalculator\n",
        "\n",
        "    positions = np.array(positions)\n",
        "    res = ResultConstructor() # output in the defined format\n",
        "    res.set_centroid(ResultCalculator.centroid(positions))\n",
        "\n",
        "    positions = ResultCalculator.distance_matrix(positions)\n",
        "    res.set_min(ResultCalculator.min(positions))\n",
        "    res.set_max(ResultCalculator.max(positions))\n",
        "    \n",
        "\n",
        "    return res\n",
        "\n",
        "  @staticmethod\n",
        "  def distance_matrix(dm):\n",
        "    \"\"\"\n",
        "    Calculate pairwise distances between all the points\n",
        "    \"\"\"\n",
        "    return np.linalg.norm(dm[:, None, :] - dm[None, :, :], axis=-1)\n",
        "\n",
        "  @staticmethod\n",
        "  def min(dm):\n",
        "    \"\"\"\n",
        "    Get the minimum distance from the pairwise distance matrix.\n",
        "    Note: we do not consider the diagonal values, they are always equal to 0\n",
        "    \n",
        "    \"\"\"\n",
        "    return np.min(dm + np.eye(dm.shape[0], dm.shape[1]) * 1000)\n",
        "\n",
        "  @staticmethod\n",
        "  def max(dm):\n",
        "    \"\"\"\n",
        "    Get the maximum distance from the pairwise distance matrix.    \n",
        "    \"\"\"\n",
        "    return np.max(dm)\n",
        "\n",
        "  @staticmethod\n",
        "  def centroid(pts):\n",
        "    \"\"\"\n",
        "    Get the average distance from the centroid to the points.\n",
        "    \"\"\"\n",
        "    return np.mean(np.linalg.norm(pts - np.array([np.mean(pts, 0)]), axis=1))\n"
      ],
      "metadata": {
        "id": "fMqnBvz_G7R1"
      },
      "execution_count": 5,
      "outputs": []
    },
    {
      "cell_type": "code",
      "source": [
        "test_positions = [[0,0],[10,2],[2,3],[8,9]]\n",
        "r = ResultCalculator.make(test_positions)\n",
        "r.result"
      ],
      "metadata": {
        "colab": {
          "base_uri": "https://localhost:8080/"
        },
        "id": "ruQKZ9pnJlta",
        "outputId": "363395f6-ea76-472c-ff5b-704b303ff568"
      },
      "execution_count": 6,
      "outputs": [
        {
          "output_type": "execute_result",
          "data": {
            "text/plain": [
              "{'min': 3.605551275463989,\n",
              " 'max': 12.041594578792296,\n",
              " 'centroid': 5.157448592635517}"
            ]
          },
          "metadata": {},
          "execution_count": 6
        }
      ]
    },
    {
      "cell_type": "markdown",
      "source": [
        "### Server setup in Colab : package import"
      ],
      "metadata": {
        "id": "9PII78dPU2cp"
      }
    },
    {
      "cell_type": "code",
      "source": [
        "!pip install colabcode\n",
        "!pip install fastapi"
      ],
      "metadata": {
        "colab": {
          "base_uri": "https://localhost:8080/"
        },
        "id": "VztyJf-eVBUW",
        "outputId": "6536c45e-ddf6-4369-ad39-3893f9218a0c"
      },
      "execution_count": 7,
      "outputs": [
        {
          "output_type": "stream",
          "name": "stdout",
          "text": [
            "Looking in indexes: https://pypi.org/simple, https://us-python.pkg.dev/colab-wheels/public/simple/\n",
            "Collecting colabcode\n",
            "  Downloading colabcode-0.3.0-py3-none-any.whl (5.0 kB)\n",
            "Collecting pyngrok>=5.0.0 (from colabcode)\n",
            "  Downloading pyngrok-6.0.0.tar.gz (681 kB)\n",
            "\u001b[2K     \u001b[90m━━━━━━━━━━━━━━━━━━━━━━━━━━━━━━━━━━━━━━\u001b[0m \u001b[32m681.2/681.2 kB\u001b[0m \u001b[31m36.2 MB/s\u001b[0m eta \u001b[36m0:00:00\u001b[0m\n",
            "\u001b[?25h  Preparing metadata (setup.py) ... \u001b[?25l\u001b[?25hdone\n",
            "Collecting nest-asyncio==1.4.3 (from colabcode)\n",
            "  Downloading nest_asyncio-1.4.3-py3-none-any.whl (5.3 kB)\n",
            "Collecting uvicorn==0.13.1 (from colabcode)\n",
            "  Downloading uvicorn-0.13.1-py3-none-any.whl (45 kB)\n",
            "\u001b[2K     \u001b[90m━━━━━━━━━━━━━━━━━━━━━━━━━━━━━━━━━━━━━━━━\u001b[0m \u001b[32m45.5/45.5 kB\u001b[0m \u001b[31m6.0 MB/s\u001b[0m eta \u001b[36m0:00:00\u001b[0m\n",
            "\u001b[?25hCollecting jupyterlab==3.0.7 (from colabcode)\n",
            "  Downloading jupyterlab-3.0.7-py3-none-any.whl (8.3 MB)\n",
            "\u001b[2K     \u001b[90m━━━━━━━━━━━━━━━━━━━━━━━━━━━━━━━━━━━━━━━━\u001b[0m \u001b[32m8.3/8.3 MB\u001b[0m \u001b[31m84.8 MB/s\u001b[0m eta \u001b[36m0:00:00\u001b[0m\n",
            "\u001b[?25hRequirement already satisfied: ipython in /usr/local/lib/python3.10/dist-packages (from jupyterlab==3.0.7->colabcode) (7.34.0)\n",
            "Requirement already satisfied: packaging in /usr/local/lib/python3.10/dist-packages (from jupyterlab==3.0.7->colabcode) (23.1)\n",
            "Requirement already satisfied: tornado>=6.1.0 in /usr/local/lib/python3.10/dist-packages (from jupyterlab==3.0.7->colabcode) (6.3.1)\n",
            "Requirement already satisfied: jupyter-core in /usr/local/lib/python3.10/dist-packages (from jupyterlab==3.0.7->colabcode) (5.3.0)\n",
            "Collecting jupyterlab-server~=2.0 (from jupyterlab==3.0.7->colabcode)\n",
            "  Downloading jupyterlab_server-2.22.1-py3-none-any.whl (57 kB)\n",
            "\u001b[2K     \u001b[90m━━━━━━━━━━━━━━━━━━━━━━━━━━━━━━━━━━━━━━━━\u001b[0m \u001b[32m57.0/57.0 kB\u001b[0m \u001b[31m7.4 MB/s\u001b[0m eta \u001b[36m0:00:00\u001b[0m\n",
            "\u001b[?25hRequirement already satisfied: jupyter-server~=1.2 in /usr/local/lib/python3.10/dist-packages (from jupyterlab==3.0.7->colabcode) (1.24.0)\n",
            "Collecting nbclassic~=0.2 (from jupyterlab==3.0.7->colabcode)\n",
            "  Downloading nbclassic-0.5.6-py3-none-any.whl (10.0 MB)\n",
            "\u001b[2K     \u001b[90m━━━━━━━━━━━━━━━━━━━━━━━━━━━━━━━━━━━━━━━━\u001b[0m \u001b[32m10.0/10.0 MB\u001b[0m \u001b[31m92.9 MB/s\u001b[0m eta \u001b[36m0:00:00\u001b[0m\n",
            "\u001b[?25hRequirement already satisfied: jinja2>=2.10 in /usr/local/lib/python3.10/dist-packages (from jupyterlab==3.0.7->colabcode) (3.1.2)\n",
            "Collecting click==7.* (from uvicorn==0.13.1->colabcode)\n",
            "  Downloading click-7.1.2-py2.py3-none-any.whl (82 kB)\n",
            "\u001b[2K     \u001b[90m━━━━━━━━━━━━━━━━━━━━━━━━━━━━━━━━━━━━━━━━\u001b[0m \u001b[32m82.8/82.8 kB\u001b[0m \u001b[31m9.9 MB/s\u001b[0m eta \u001b[36m0:00:00\u001b[0m\n",
            "\u001b[?25hCollecting h11>=0.8 (from uvicorn==0.13.1->colabcode)\n",
            "  Downloading h11-0.14.0-py3-none-any.whl (58 kB)\n",
            "\u001b[2K     \u001b[90m━━━━━━━━━━━━━━━━━━━━━━━━━━━━━━━━━━━━━━━━\u001b[0m \u001b[32m58.3/58.3 kB\u001b[0m \u001b[31m7.3 MB/s\u001b[0m eta \u001b[36m0:00:00\u001b[0m\n",
            "\u001b[?25hRequirement already satisfied: PyYAML in /usr/local/lib/python3.10/dist-packages (from pyngrok>=5.0.0->colabcode) (6.0)\n",
            "Requirement already satisfied: MarkupSafe>=2.0 in /usr/local/lib/python3.10/dist-packages (from jinja2>=2.10->jupyterlab==3.0.7->colabcode) (2.1.2)\n",
            "Requirement already satisfied: anyio<4,>=3.1.0 in /usr/local/lib/python3.10/dist-packages (from jupyter-server~=1.2->jupyterlab==3.0.7->colabcode) (3.6.2)\n",
            "Requirement already satisfied: argon2-cffi in /usr/local/lib/python3.10/dist-packages (from jupyter-server~=1.2->jupyterlab==3.0.7->colabcode) (21.3.0)\n",
            "Requirement already satisfied: jupyter-client>=6.1.12 in /usr/local/lib/python3.10/dist-packages (from jupyter-server~=1.2->jupyterlab==3.0.7->colabcode) (6.1.12)\n",
            "Requirement already satisfied: nbconvert>=6.4.4 in /usr/local/lib/python3.10/dist-packages (from jupyter-server~=1.2->jupyterlab==3.0.7->colabcode) (6.5.4)\n",
            "Requirement already satisfied: nbformat>=5.2.0 in /usr/local/lib/python3.10/dist-packages (from jupyter-server~=1.2->jupyterlab==3.0.7->colabcode) (5.8.0)\n",
            "Requirement already satisfied: prometheus-client in /usr/local/lib/python3.10/dist-packages (from jupyter-server~=1.2->jupyterlab==3.0.7->colabcode) (0.16.0)\n",
            "Requirement already satisfied: pyzmq>=17 in /usr/local/lib/python3.10/dist-packages (from jupyter-server~=1.2->jupyterlab==3.0.7->colabcode) (23.2.1)\n",
            "Requirement already satisfied: Send2Trash in /usr/local/lib/python3.10/dist-packages (from jupyter-server~=1.2->jupyterlab==3.0.7->colabcode) (1.8.0)\n",
            "Requirement already satisfied: terminado>=0.8.3 in /usr/local/lib/python3.10/dist-packages (from jupyter-server~=1.2->jupyterlab==3.0.7->colabcode) (0.17.1)\n",
            "Requirement already satisfied: traitlets>=5.1 in /usr/local/lib/python3.10/dist-packages (from jupyter-server~=1.2->jupyterlab==3.0.7->colabcode) (5.7.1)\n",
            "Requirement already satisfied: websocket-client in /usr/local/lib/python3.10/dist-packages (from jupyter-server~=1.2->jupyterlab==3.0.7->colabcode) (1.5.1)\n",
            "Requirement already satisfied: platformdirs>=2.5 in /usr/local/lib/python3.10/dist-packages (from jupyter-core->jupyterlab==3.0.7->colabcode) (3.3.0)\n",
            "Requirement already satisfied: babel>=2.10 in /usr/local/lib/python3.10/dist-packages (from jupyterlab-server~=2.0->jupyterlab==3.0.7->colabcode) (2.12.1)\n",
            "Collecting json5>=0.9.0 (from jupyterlab-server~=2.0->jupyterlab==3.0.7->colabcode)\n",
            "  Downloading json5-0.9.14-py2.py3-none-any.whl (19 kB)\n",
            "Collecting jsonschema>=4.17.3 (from jupyterlab-server~=2.0->jupyterlab==3.0.7->colabcode)\n",
            "  Downloading jsonschema-4.17.3-py3-none-any.whl (90 kB)\n",
            "\u001b[2K     \u001b[90m━━━━━━━━━━━━━━━━━━━━━━━━━━━━━━━━━━━━━━━━\u001b[0m \u001b[32m90.4/90.4 kB\u001b[0m \u001b[31m12.3 MB/s\u001b[0m eta \u001b[36m0:00:00\u001b[0m\n",
            "\u001b[?25hCollecting requests>=2.28 (from jupyterlab-server~=2.0->jupyterlab==3.0.7->colabcode)\n",
            "  Downloading requests-2.30.0-py3-none-any.whl (62 kB)\n",
            "\u001b[2K     \u001b[90m━━━━━━━━━━━━━━━━━━━━━━━━━━━━━━━━━━━━━━━━\u001b[0m \u001b[32m62.5/62.5 kB\u001b[0m \u001b[31m8.4 MB/s\u001b[0m eta \u001b[36m0:00:00\u001b[0m\n",
            "\u001b[?25hRequirement already satisfied: ipython-genutils in /usr/local/lib/python3.10/dist-packages (from nbclassic~=0.2->jupyterlab==3.0.7->colabcode) (0.2.0)\n",
            "Collecting notebook-shim>=0.2.3 (from nbclassic~=0.2->jupyterlab==3.0.7->colabcode)\n",
            "  Downloading notebook_shim-0.2.3-py3-none-any.whl (13 kB)\n",
            "INFO: pip is looking at multiple versions of nbclassic to determine which version is compatible with other requirements. This could take a while.\n",
            "Collecting nbclassic~=0.2 (from jupyterlab==3.0.7->colabcode)\n",
            "  Downloading nbclassic-0.5.5-py3-none-any.whl (10.0 MB)\n",
            "\u001b[2K     \u001b[90m━━━━━━━━━━━━━━━━━━━━━━━━━━━━━━━━━━━━━━━━\u001b[0m \u001b[32m10.0/10.0 MB\u001b[0m \u001b[31m98.1 MB/s\u001b[0m eta \u001b[36m0:00:00\u001b[0m\n",
            "\u001b[?25h  Downloading nbclassic-0.5.4-py3-none-any.whl (10.0 MB)\n",
            "\u001b[2K     \u001b[90m━━━━━━━━━━━━━━━━━━━━━━━━━━━━━━━━━━━━━━━━\u001b[0m \u001b[32m10.0/10.0 MB\u001b[0m \u001b[31m89.2 MB/s\u001b[0m eta \u001b[36m0:00:00\u001b[0m\n",
            "\u001b[?25h  Downloading nbclassic-0.5.3-py3-none-any.whl (10.0 MB)\n",
            "\u001b[2K     \u001b[90m━━━━━━━━━━━━━━━━━━━━━━━━━━━━━━━━━━━━━━━\u001b[0m \u001b[32m10.0/10.0 MB\u001b[0m \u001b[31m107.9 MB/s\u001b[0m eta \u001b[36m0:00:00\u001b[0m\n",
            "\u001b[?25h  Downloading nbclassic-0.5.2-py3-none-any.whl (10.0 MB)\n",
            "\u001b[2K     \u001b[90m━━━━━━━━━━━━━━━━━━━━━━━━━━━━━━━━━━━━━━━━\u001b[0m \u001b[32m10.0/10.0 MB\u001b[0m \u001b[31m26.4 MB/s\u001b[0m eta \u001b[36m0:00:00\u001b[0m\n",
            "\u001b[?25h  Downloading nbclassic-0.5.1-py3-none-any.whl (10.0 MB)\n",
            "\u001b[2K     \u001b[90m━━━━━━━━━━━━━━━━━━━━━━━━━━━━━━━━━━━━━━━━\u001b[0m \u001b[32m10.0/10.0 MB\u001b[0m \u001b[31m90.2 MB/s\u001b[0m eta \u001b[36m0:00:00\u001b[0m\n",
            "\u001b[?25h  Downloading nbclassic-0.4.8-py3-none-any.whl (9.8 MB)\n",
            "\u001b[2K     \u001b[90m━━━━━━━━━━━━━━━━━━━━━━━━━━━━━━━━━━━━━━━━\u001b[0m \u001b[32m9.8/9.8 MB\u001b[0m \u001b[31m112.1 MB/s\u001b[0m eta \u001b[36m0:00:00\u001b[0m\n",
            "\u001b[?25h  Downloading nbclassic-0.4.7-py3-none-any.whl (9.8 MB)\n",
            "\u001b[2K     \u001b[90m━━━━━━━━━━━━━━━━━━━━━━━━━━━━━━━━━━━━━━━━\u001b[0m \u001b[32m9.8/9.8 MB\u001b[0m \u001b[31m101.7 MB/s\u001b[0m eta \u001b[36m0:00:00\u001b[0m\n",
            "\u001b[?25hINFO: pip is looking at multiple versions of nbclassic to determine which version is compatible with other requirements. This could take a while.\n",
            "  Downloading nbclassic-0.4.6-py3-none-any.whl (9.8 MB)\n",
            "\u001b[2K     \u001b[90m━━━━━━━━━━━━━━━━━━━━━━━━━━━━━━━━━━━━━━━━\u001b[0m \u001b[32m9.8/9.8 MB\u001b[0m \u001b[31m102.6 MB/s\u001b[0m eta \u001b[36m0:00:00\u001b[0m\n",
            "\u001b[?25h  Downloading nbclassic-0.4.5-py3-none-any.whl (9.8 MB)\n",
            "\u001b[2K     \u001b[90m━━━━━━━━━━━━━━━━━━━━━━━━━━━━━━━━━━━━━━━━\u001b[0m \u001b[32m9.8/9.8 MB\u001b[0m \u001b[31m106.1 MB/s\u001b[0m eta \u001b[36m0:00:00\u001b[0m\n",
            "\u001b[?25h  Downloading nbclassic-0.4.4-py3-none-any.whl (9.8 MB)\n",
            "\u001b[2K     \u001b[90m━━━━━━━━━━━━━━━━━━━━━━━━━━━━━━━━━━━━━━━━\u001b[0m \u001b[32m9.8/9.8 MB\u001b[0m \u001b[31m103.2 MB/s\u001b[0m eta \u001b[36m0:00:00\u001b[0m\n",
            "\u001b[?25h  Downloading nbclassic-0.4.3-py3-none-any.whl (9.7 MB)\n",
            "\u001b[2K     \u001b[90m━━━━━━━━━━━━━━━━━━━━━━━━━━━━━━━━━━━━━━━━\u001b[0m \u001b[32m9.7/9.7 MB\u001b[0m \u001b[31m68.0 MB/s\u001b[0m eta \u001b[36m0:00:00\u001b[0m\n",
            "\u001b[?25h  Downloading nbclassic-0.4.2-py3-none-any.whl (9.7 MB)\n",
            "\u001b[2K     \u001b[90m━━━━━━━━━━━━━━━━━━━━━━━━━━━━━━━━━━━━━━━━\u001b[0m \u001b[32m9.7/9.7 MB\u001b[0m \u001b[31m88.3 MB/s\u001b[0m eta \u001b[36m0:00:00\u001b[0m\n",
            "\u001b[?25hINFO: This is taking longer than usual. You might need to provide the dependency resolver with stricter constraints to reduce runtime. See https://pip.pypa.io/warnings/backtracking for guidance. If you want to abort this run, press Ctrl + C.\n",
            "  Downloading nbclassic-0.4.0-py3-none-any.whl (9.7 MB)\n",
            "\u001b[2K     \u001b[90m━━━━━━━━━━━━━━━━━━━━━━━━━━━━━━━━━━━━━━━━\u001b[0m \u001b[32m9.7/9.7 MB\u001b[0m \u001b[31m86.4 MB/s\u001b[0m eta \u001b[36m0:00:00\u001b[0m\n",
            "\u001b[?25h  Downloading nbclassic-0.3.7-py3-none-any.whl (13 kB)\n",
            "Requirement already satisfied: notebook<7 in /usr/local/lib/python3.10/dist-packages (from nbclassic~=0.2->jupyterlab==3.0.7->colabcode) (6.4.8)\n",
            "Requirement already satisfied: setuptools>=18.5 in /usr/local/lib/python3.10/dist-packages (from ipython->jupyterlab==3.0.7->colabcode) (67.7.2)\n",
            "Collecting jedi>=0.16 (from ipython->jupyterlab==3.0.7->colabcode)\n",
            "  Downloading jedi-0.18.2-py2.py3-none-any.whl (1.6 MB)\n",
            "\u001b[2K     \u001b[90m━━━━━━━━━━━━━━━━━━━━━━━━━━━━━━━━━━━━━━━━\u001b[0m \u001b[32m1.6/1.6 MB\u001b[0m \u001b[31m78.2 MB/s\u001b[0m eta \u001b[36m0:00:00\u001b[0m\n",
            "\u001b[?25hRequirement already satisfied: decorator in /usr/local/lib/python3.10/dist-packages (from ipython->jupyterlab==3.0.7->colabcode) (4.4.2)\n",
            "Requirement already satisfied: pickleshare in /usr/local/lib/python3.10/dist-packages (from ipython->jupyterlab==3.0.7->colabcode) (0.7.5)\n",
            "Requirement already satisfied: prompt-toolkit!=3.0.0,!=3.0.1,<3.1.0,>=2.0.0 in /usr/local/lib/python3.10/dist-packages (from ipython->jupyterlab==3.0.7->colabcode) (3.0.38)\n",
            "Requirement already satisfied: pygments in /usr/local/lib/python3.10/dist-packages (from ipython->jupyterlab==3.0.7->colabcode) (2.14.0)\n",
            "Requirement already satisfied: backcall in /usr/local/lib/python3.10/dist-packages (from ipython->jupyterlab==3.0.7->colabcode) (0.2.0)\n",
            "Requirement already satisfied: matplotlib-inline in /usr/local/lib/python3.10/dist-packages (from ipython->jupyterlab==3.0.7->colabcode) (0.1.6)\n",
            "Requirement already satisfied: pexpect>4.3 in /usr/local/lib/python3.10/dist-packages (from ipython->jupyterlab==3.0.7->colabcode) (4.8.0)\n",
            "Requirement already satisfied: idna>=2.8 in /usr/local/lib/python3.10/dist-packages (from anyio<4,>=3.1.0->jupyter-server~=1.2->jupyterlab==3.0.7->colabcode) (3.4)\n",
            "Requirement already satisfied: sniffio>=1.1 in /usr/local/lib/python3.10/dist-packages (from anyio<4,>=3.1.0->jupyter-server~=1.2->jupyterlab==3.0.7->colabcode) (1.3.0)\n",
            "Requirement already satisfied: parso<0.9.0,>=0.8.0 in /usr/local/lib/python3.10/dist-packages (from jedi>=0.16->ipython->jupyterlab==3.0.7->colabcode) (0.8.3)\n",
            "Requirement already satisfied: attrs>=17.4.0 in /usr/local/lib/python3.10/dist-packages (from jsonschema>=4.17.3->jupyterlab-server~=2.0->jupyterlab==3.0.7->colabcode) (23.1.0)\n",
            "Requirement already satisfied: pyrsistent!=0.17.0,!=0.17.1,!=0.17.2,>=0.14.0 in /usr/local/lib/python3.10/dist-packages (from jsonschema>=4.17.3->jupyterlab-server~=2.0->jupyterlab==3.0.7->colabcode) (0.19.3)\n",
            "Requirement already satisfied: python-dateutil>=2.1 in /usr/local/lib/python3.10/dist-packages (from jupyter-client>=6.1.12->jupyter-server~=1.2->jupyterlab==3.0.7->colabcode) (2.8.2)\n",
            "Requirement already satisfied: lxml in /usr/local/lib/python3.10/dist-packages (from nbconvert>=6.4.4->jupyter-server~=1.2->jupyterlab==3.0.7->colabcode) (4.9.2)\n",
            "Requirement already satisfied: beautifulsoup4 in /usr/local/lib/python3.10/dist-packages (from nbconvert>=6.4.4->jupyter-server~=1.2->jupyterlab==3.0.7->colabcode) (4.11.2)\n",
            "Requirement already satisfied: bleach in /usr/local/lib/python3.10/dist-packages (from nbconvert>=6.4.4->jupyter-server~=1.2->jupyterlab==3.0.7->colabcode) (6.0.0)\n",
            "Requirement already satisfied: defusedxml in /usr/local/lib/python3.10/dist-packages (from nbconvert>=6.4.4->jupyter-server~=1.2->jupyterlab==3.0.7->colabcode) (0.7.1)\n",
            "Requirement already satisfied: entrypoints>=0.2.2 in /usr/local/lib/python3.10/dist-packages (from nbconvert>=6.4.4->jupyter-server~=1.2->jupyterlab==3.0.7->colabcode) (0.4)\n",
            "Requirement already satisfied: jupyterlab-pygments in /usr/local/lib/python3.10/dist-packages (from nbconvert>=6.4.4->jupyter-server~=1.2->jupyterlab==3.0.7->colabcode) (0.2.2)\n",
            "Requirement already satisfied: mistune<2,>=0.8.1 in /usr/local/lib/python3.10/dist-packages (from nbconvert>=6.4.4->jupyter-server~=1.2->jupyterlab==3.0.7->colabcode) (0.8.4)\n",
            "Requirement already satisfied: nbclient>=0.5.0 in /usr/local/lib/python3.10/dist-packages (from nbconvert>=6.4.4->jupyter-server~=1.2->jupyterlab==3.0.7->colabcode) (0.7.4)\n",
            "Requirement already satisfied: pandocfilters>=1.4.1 in /usr/local/lib/python3.10/dist-packages (from nbconvert>=6.4.4->jupyter-server~=1.2->jupyterlab==3.0.7->colabcode) (1.5.0)\n",
            "Requirement already satisfied: tinycss2 in /usr/local/lib/python3.10/dist-packages (from nbconvert>=6.4.4->jupyter-server~=1.2->jupyterlab==3.0.7->colabcode) (1.2.1)\n",
            "Requirement already satisfied: fastjsonschema in /usr/local/lib/python3.10/dist-packages (from nbformat>=5.2.0->jupyter-server~=1.2->jupyterlab==3.0.7->colabcode) (2.16.3)\n",
            "INFO: pip is looking at multiple versions of notebook to determine which version is compatible with other requirements. This could take a while.\n",
            "Collecting notebook<7 (from nbclassic~=0.2->jupyterlab==3.0.7->colabcode)\n",
            "  Downloading notebook-6.5.4-py3-none-any.whl (529 kB)\n",
            "\u001b[2K     \u001b[90m━━━━━━━━━━━━━━━━━━━━━━━━━━━━━━━━━━━━━━\u001b[0m \u001b[32m529.8/529.8 kB\u001b[0m \u001b[31m45.9 MB/s\u001b[0m eta \u001b[36m0:00:00\u001b[0m\n",
            "\u001b[?25h  Downloading notebook-6.5.3-py3-none-any.whl (529 kB)\n",
            "\u001b[2K     \u001b[90m━━━━━━━━━━━━━━━━━━━━━━━━━━━━━━━━━━━━━━\u001b[0m \u001b[32m529.7/529.7 kB\u001b[0m \u001b[31m44.4 MB/s\u001b[0m eta \u001b[36m0:00:00\u001b[0m\n",
            "\u001b[?25h\u001b[33m  WARNING: Retrying (Retry(total=4, connect=None, read=None, redirect=None, status=None)) after connection broken by 'ProtocolError('Connection aborted.', RemoteDisconnected('Remote end closed connection without response'))': /packages/db/40/2d321ba572dc9a94a090d92c9826291a1dcee1e05bc6c1d641ce419b701d/notebook-6.5.2-py3-none-any.whl\u001b[0m\u001b[33m\n",
            "\u001b[0m  Downloading notebook-6.5.2-py3-none-any.whl (439 kB)\n",
            "\u001b[2K     \u001b[90m━━━━━━━━━━━━━━━━━━━━━━━━━━━━━━━━━━━━━━\u001b[0m \u001b[32m439.1/439.1 kB\u001b[0m \u001b[31m27.0 MB/s\u001b[0m eta \u001b[36m0:00:00\u001b[0m\n",
            "\u001b[?25h  Downloading notebook-6.5.1-py3-none-any.whl (439 kB)\n",
            "\u001b[2K     \u001b[90m━━━━━━━━━━━━━━━━━━━━━━━━━━━━━━━━━━━━━━\u001b[0m \u001b[32m439.1/439.1 kB\u001b[0m \u001b[31m21.6 MB/s\u001b[0m eta \u001b[36m0:00:00\u001b[0m\n",
            "\u001b[?25h  Downloading notebook-6.4.12-py3-none-any.whl (9.9 MB)\n",
            "\u001b[2K     \u001b[90m━━━━━━━━━━━━━━━━━━━━━━━━━━━━━━━━━━━━━━━━\u001b[0m \u001b[32m9.9/9.9 MB\u001b[0m \u001b[31m28.0 MB/s\u001b[0m eta \u001b[36m0:00:00\u001b[0m\n",
            "\u001b[?25h  Downloading notebook-6.4.11-py3-none-any.whl (9.9 MB)\n",
            "\u001b[2K     \u001b[90m━━━━━━━━━━━━━━━━━━━━━━━━━━━━━━━━━━━━━━━━\u001b[0m \u001b[32m9.9/9.9 MB\u001b[0m \u001b[31m93.7 MB/s\u001b[0m eta \u001b[36m0:00:00\u001b[0m\n",
            "\u001b[?25h  Downloading notebook-6.4.10-py3-none-any.whl (9.9 MB)\n",
            "\u001b[2K     \u001b[90m━━━━━━━━━━━━━━━━━━━━━━━━━━━━━━━━━━━━━━━━\u001b[0m \u001b[32m9.9/9.9 MB\u001b[0m \u001b[31m66.4 MB/s\u001b[0m eta \u001b[36m0:00:00\u001b[0m\n",
            "\u001b[?25hINFO: pip is looking at multiple versions of notebook to determine which version is compatible with other requirements. This could take a while.\n",
            "  Downloading notebook-6.4.9-py3-none-any.whl (9.9 MB)\n",
            "\u001b[2K     \u001b[90m━━━━━━━━━━━━━━━━━━━━━━━━━━━━━━━━━━━━━━━━\u001b[0m \u001b[32m9.9/9.9 MB\u001b[0m \u001b[31m67.7 MB/s\u001b[0m eta \u001b[36m0:00:00\u001b[0m\n",
            "\u001b[?25h  Downloading notebook-6.4.7-py3-none-any.whl (9.9 MB)\n",
            "\u001b[2K     \u001b[90m━━━━━━━━━━━━━━━━━━━━━━━━━━━━━━━━━━━━━━━━\u001b[0m \u001b[32m9.9/9.9 MB\u001b[0m \u001b[31m75.0 MB/s\u001b[0m eta \u001b[36m0:00:00\u001b[0m\n",
            "\u001b[?25h  Downloading notebook-6.4.6-py3-none-any.whl (9.9 MB)\n",
            "\u001b[2K     \u001b[90m━━━━━━━━━━━━━━━━━━━━━━━━━━━━━━━━━━━━━━━━\u001b[0m \u001b[32m9.9/9.9 MB\u001b[0m \u001b[31m67.4 MB/s\u001b[0m eta \u001b[36m0:00:00\u001b[0m\n",
            "\u001b[?25h  Downloading notebook-6.4.5-py3-none-any.whl (9.9 MB)\n",
            "\u001b[2K     \u001b[90m━━━━━━━━━━━━━━━━━━━━━━━━━━━━━━━━━━━━━━━━\u001b[0m \u001b[32m9.9/9.9 MB\u001b[0m \u001b[31m71.0 MB/s\u001b[0m eta \u001b[36m0:00:00\u001b[0m\n",
            "\u001b[?25hRequirement already satisfied: ipykernel in /usr/local/lib/python3.10/dist-packages (from notebook<7->nbclassic~=0.2->jupyterlab==3.0.7->colabcode) (5.5.6)\n",
            "Requirement already satisfied: ptyprocess>=0.5 in /usr/local/lib/python3.10/dist-packages (from pexpect>4.3->ipython->jupyterlab==3.0.7->colabcode) (0.7.0)\n",
            "Requirement already satisfied: wcwidth in /usr/local/lib/python3.10/dist-packages (from prompt-toolkit!=3.0.0,!=3.0.1,<3.1.0,>=2.0.0->ipython->jupyterlab==3.0.7->colabcode) (0.2.6)\n",
            "Requirement already satisfied: charset-normalizer<4,>=2 in /usr/local/lib/python3.10/dist-packages (from requests>=2.28->jupyterlab-server~=2.0->jupyterlab==3.0.7->colabcode) (2.0.12)\n",
            "Requirement already satisfied: urllib3<3,>=1.21.1 in /usr/local/lib/python3.10/dist-packages (from requests>=2.28->jupyterlab-server~=2.0->jupyterlab==3.0.7->colabcode) (1.26.15)\n",
            "Requirement already satisfied: certifi>=2017.4.17 in /usr/local/lib/python3.10/dist-packages (from requests>=2.28->jupyterlab-server~=2.0->jupyterlab==3.0.7->colabcode) (2022.12.7)\n",
            "Requirement already satisfied: argon2-cffi-bindings in /usr/local/lib/python3.10/dist-packages (from argon2-cffi->jupyter-server~=1.2->jupyterlab==3.0.7->colabcode) (21.2.0)\n",
            "Requirement already satisfied: six>=1.5 in /usr/local/lib/python3.10/dist-packages (from python-dateutil>=2.1->jupyter-client>=6.1.12->jupyter-server~=1.2->jupyterlab==3.0.7->colabcode) (1.16.0)\n",
            "Requirement already satisfied: cffi>=1.0.1 in /usr/local/lib/python3.10/dist-packages (from argon2-cffi-bindings->argon2-cffi->jupyter-server~=1.2->jupyterlab==3.0.7->colabcode) (1.15.1)\n",
            "Requirement already satisfied: soupsieve>1.2 in /usr/local/lib/python3.10/dist-packages (from beautifulsoup4->nbconvert>=6.4.4->jupyter-server~=1.2->jupyterlab==3.0.7->colabcode) (2.4.1)\n",
            "Requirement already satisfied: webencodings in /usr/local/lib/python3.10/dist-packages (from bleach->nbconvert>=6.4.4->jupyter-server~=1.2->jupyterlab==3.0.7->colabcode) (0.5.1)\n",
            "Requirement already satisfied: pycparser in /usr/local/lib/python3.10/dist-packages (from cffi>=1.0.1->argon2-cffi-bindings->argon2-cffi->jupyter-server~=1.2->jupyterlab==3.0.7->colabcode) (2.21)\n",
            "Building wheels for collected packages: pyngrok\n",
            "  Building wheel for pyngrok (setup.py) ... \u001b[?25l\u001b[?25hdone\n",
            "  Created wheel for pyngrok: filename=pyngrok-6.0.0-py3-none-any.whl size=19867 sha256=29c2910320f02ed86752d21ac2c23a2a8c3fd4c418b2b8a2f50f0d6c73a517f1\n",
            "  Stored in directory: /root/.cache/pip/wheels/5c/42/78/0c3d438d7f5730451a25f7ac6cbf4391759d22a67576ed7c2c\n",
            "Successfully built pyngrok\n",
            "Installing collected packages: json5, requests, pyngrok, nest-asyncio, jsonschema, jedi, h11, click, uvicorn, notebook, notebook-shim, jupyterlab-server, nbclassic, jupyterlab, colabcode\n",
            "  Attempting uninstall: requests\n",
            "    Found existing installation: requests 2.27.1\n",
            "    Uninstalling requests-2.27.1:\n",
            "      Successfully uninstalled requests-2.27.1\n",
            "  Attempting uninstall: nest-asyncio\n",
            "    Found existing installation: nest-asyncio 1.5.6\n",
            "    Uninstalling nest-asyncio-1.5.6:\n",
            "      Successfully uninstalled nest-asyncio-1.5.6\n",
            "  Attempting uninstall: jsonschema\n",
            "    Found existing installation: jsonschema 4.3.3\n",
            "    Uninstalling jsonschema-4.3.3:\n",
            "      Successfully uninstalled jsonschema-4.3.3\n",
            "  Attempting uninstall: click\n",
            "    Found existing installation: click 8.1.3\n",
            "    Uninstalling click-8.1.3:\n",
            "      Successfully uninstalled click-8.1.3\n",
            "  Attempting uninstall: notebook\n",
            "    Found existing installation: notebook 6.4.8\n",
            "    Uninstalling notebook-6.4.8:\n",
            "      Successfully uninstalled notebook-6.4.8\n",
            "\u001b[31mERROR: pip's dependency resolver does not currently take into account all the packages that are installed. This behaviour is the source of the following dependency conflicts.\n",
            "flask 2.2.4 requires click>=8.0, but you have click 7.1.2 which is incompatible.\n",
            "google-colab 1.0.0 requires notebook==6.4.8, but you have notebook 6.4.5 which is incompatible.\n",
            "pip-tools 6.13.0 requires click>=8, but you have click 7.1.2 which is incompatible.\u001b[0m\u001b[31m\n",
            "\u001b[0mSuccessfully installed click-7.1.2 colabcode-0.3.0 h11-0.14.0 jedi-0.18.2 json5-0.9.14 jsonschema-4.17.3 jupyterlab-3.0.7 jupyterlab-server-2.22.1 nbclassic-0.3.7 nest-asyncio-1.4.3 notebook-6.4.5 notebook-shim-0.2.3 pyngrok-6.0.0 requests-2.30.0 uvicorn-0.13.1\n",
            "Looking in indexes: https://pypi.org/simple, https://us-python.pkg.dev/colab-wheels/public/simple/\n",
            "Collecting fastapi\n",
            "  Downloading fastapi-0.95.1-py3-none-any.whl (56 kB)\n",
            "\u001b[2K     \u001b[90m━━━━━━━━━━━━━━━━━━━━━━━━━━━━━━━━━━━━━━━━\u001b[0m \u001b[32m57.0/57.0 kB\u001b[0m \u001b[31m4.3 MB/s\u001b[0m eta \u001b[36m0:00:00\u001b[0m\n",
            "\u001b[?25hRequirement already satisfied: pydantic!=1.7,!=1.7.1,!=1.7.2,!=1.7.3,!=1.8,!=1.8.1,<2.0.0,>=1.6.2 in /usr/local/lib/python3.10/dist-packages (from fastapi) (1.10.7)\n",
            "Collecting starlette<0.27.0,>=0.26.1 (from fastapi)\n",
            "  Downloading starlette-0.26.1-py3-none-any.whl (66 kB)\n",
            "\u001b[2K     \u001b[90m━━━━━━━━━━━━━━━━━━━━━━━━━━━━━━━━━━━━━━━━\u001b[0m \u001b[32m66.9/66.9 kB\u001b[0m \u001b[31m7.9 MB/s\u001b[0m eta \u001b[36m0:00:00\u001b[0m\n",
            "\u001b[?25hRequirement already satisfied: typing-extensions>=4.2.0 in /usr/local/lib/python3.10/dist-packages (from pydantic!=1.7,!=1.7.1,!=1.7.2,!=1.7.3,!=1.8,!=1.8.1,<2.0.0,>=1.6.2->fastapi) (4.5.0)\n",
            "Requirement already satisfied: anyio<5,>=3.4.0 in /usr/local/lib/python3.10/dist-packages (from starlette<0.27.0,>=0.26.1->fastapi) (3.6.2)\n",
            "Requirement already satisfied: idna>=2.8 in /usr/local/lib/python3.10/dist-packages (from anyio<5,>=3.4.0->starlette<0.27.0,>=0.26.1->fastapi) (3.4)\n",
            "Requirement already satisfied: sniffio>=1.1 in /usr/local/lib/python3.10/dist-packages (from anyio<5,>=3.4.0->starlette<0.27.0,>=0.26.1->fastapi) (1.3.0)\n",
            "Installing collected packages: starlette, fastapi\n",
            "Successfully installed fastapi-0.95.1 starlette-0.26.1\n"
          ]
        }
      ]
    },
    {
      "cell_type": "code",
      "source": [
        "from colabcode import ColabCode\n",
        "from fastapi import FastAPI\n",
        "port = 12000\n",
        "cc = ColabCode(port=port, code=False)"
      ],
      "metadata": {
        "id": "6qggFoTfVINM"
      },
      "execution_count": 8,
      "outputs": []
    },
    {
      "cell_type": "code",
      "source": [
        "app = FastAPI()\n",
        "# https://fastapi.tiangolo.com/\n",
        "@app.get(\"/\")\n",
        "async def result():\n",
        "  return {\"message\": \"some message\"} # dict, json"
      ],
      "metadata": {
        "id": "DoDdKBNUVPRg"
      },
      "execution_count": 9,
      "outputs": []
    },
    {
      "cell_type": "markdown",
      "source": [
        "## SERVER - testing the app"
      ],
      "metadata": {
        "id": "YoZ6SywEL-ld"
      }
    },
    {
      "cell_type": "markdown",
      "source": [
        "Think about your server as a continuously running app"
      ],
      "metadata": {
        "id": "3W7zuPquMOBG"
      }
    },
    {
      "cell_type": "markdown",
      "source": [
        "### In colab:"
      ],
      "metadata": {
        "id": "7eV7ErcLOCe1"
      }
    },
    {
      "cell_type": "code",
      "execution_count": null,
      "metadata": {
        "id": "KNQ-3y_93FMA"
      },
      "outputs": [],
      "source": [
        "!pip install colabcode\n",
        "!pip install fastapi"
      ]
    },
    {
      "cell_type": "code",
      "source": [
        "from colabcode import ColabCode\n",
        "from fastapi import FastAPI\n",
        "port = 12000\n",
        "cc = ColabCode(port=port, code=False)"
      ],
      "metadata": {
        "id": "PdLWfO7LOG5v"
      },
      "execution_count": 2,
      "outputs": []
    },
    {
      "cell_type": "code",
      "source": [
        "app = FastAPI()\n",
        "# https://fastapi.tiangolo.com/\n",
        "\n",
        "# @app.get(\"/hunt\") creates an endpoint for your website url, e.g.\n",
        "#               www.doghunt.org/hunt\n",
        "# (\"/\") corresponds to the root, e.g. www.doghunt.org (www.doghunt.org/)\n",
        "# so if we go to our url www.doghunt.org we would see {\"message\": \"some message\"} on a white page.\n",
        "\n",
        "@app.get(\"/\")\n",
        "async def result():\n",
        "  return {\"message\": \"some message\"} # dict, json"
      ],
      "metadata": {
        "id": "DpT-9BS4OO0_"
      },
      "execution_count": 9,
      "outputs": []
    },
    {
      "cell_type": "code",
      "source": [
        "# cc.run_app(app=app)  # running the app"
      ],
      "metadata": {
        "colab": {
          "base_uri": "https://localhost:8080/"
        },
        "id": "Y-jXfryqOZMD",
        "outputId": "ae387962-59b4-4239-ec83-d103c0e61aa2"
      },
      "execution_count": 10,
      "outputs": [
        {
          "output_type": "stream",
          "name": "stdout",
          "text": []
        },
        {
          "output_type": "stream",
          "name": "stderr",
          "text": [
            "WARNING:pyngrok.process.ngrok:t=2023-05-13T08:46:58+0000 lvl=warn msg=\"ngrok config file found at legacy location, move to XDG location\" xdg_path=/root/.config/ngrok/ngrok.yml legacy_path=/root/.ngrok2/ngrok.yml\n",
            "INFO:     Started server process [148]\n",
            "INFO:uvicorn.error:Started server process [148]\n",
            "INFO:     Waiting for application startup.\n",
            "INFO:uvicorn.error:Waiting for application startup.\n",
            "INFO:     Application startup complete.\n",
            "INFO:uvicorn.error:Application startup complete.\n",
            "INFO:     Uvicorn running on http://127.0.0.1:12000 (Press CTRL+C to quit)\n",
            "INFO:uvicorn.error:Uvicorn running on http://127.0.0.1:12000 (Press CTRL+C to quit)\n"
          ]
        },
        {
          "output_type": "stream",
          "name": "stdout",
          "text": [
            "Public URL: NgrokTunnel: \"https://3c70-34-86-231-153.ngrok.io\" -> \"http://localhost:12000\"\n",
            "INFO:     158.174.248.118:0 - \"GET / HTTP/1.1\" 200 OK\n",
            "INFO:     158.174.248.118:0 - \"GET /favicon.ico HTTP/1.1\" 404 Not Found\n",
            "INFO:     158.174.248.118:0 - \"GET /pos/1%2C2%2C3%2C4%2C5%2C6%2C7 HTTP/1.1\" 200 OK\n"
          ]
        },
        {
          "output_type": "stream",
          "name": "stderr",
          "text": [
            "INFO:     Shutting down\n",
            "INFO:uvicorn.error:Shutting down\n",
            "INFO:     Waiting for application shutdown.\n",
            "INFO:uvicorn.error:Waiting for application shutdown.\n",
            "INFO:     Application shutdown complete.\n",
            "INFO:uvicorn.error:Application shutdown complete.\n",
            "INFO:     Finished server process [148]\n",
            "INFO:uvicorn.error:Finished server process [148]\n"
          ]
        }
      ]
    },
    {
      "cell_type": "markdown",
      "source": [
        "Call your app (separate notebook)"
      ],
      "metadata": {
        "id": "SlgxgkYIOvYK"
      }
    },
    {
      "cell_type": "code",
      "source": [
        "import requests\n",
        "URL = \"YOUR URL\" # replace with ngrok url from the server cell output, e.g. https://6bd5-34-86-171-56.ngrok.io/\n",
        "requests.get(URL).json()\n",
        "\n",
        "# >> {\"message\": \"some message\"}"
      ],
      "metadata": {
        "id": "k8A5hQfGPZB4"
      },
      "execution_count": null,
      "outputs": []
    },
    {
      "cell_type": "markdown",
      "source": [
        "### Locally 🤍"
      ],
      "metadata": {
        "id": "Q0Bdbta6O790"
      }
    },
    {
      "cell_type": "code",
      "source": [
        "# create a file named app.py \n",
        "# %%writefile app.py - colab command for it\n",
        "\n",
        "# inside app.py:\n",
        "\n",
        "from flask import Flask\n",
        "\n",
        "app = Flask(__name__)\n",
        "# https://flask.palletsprojects.com/en/2.3.x/quickstart/#a-minimal-application\n",
        "\n",
        "@app.route(\"/\")\n",
        "def hello_world():\n",
        "    return \"<p>Some text</p>\"\n",
        "\n",
        "if __name__ == '__main__':\n",
        "    app.run()"
      ],
      "metadata": {
        "colab": {
          "base_uri": "https://localhost:8080/"
        },
        "id": "wuad3bpP3Maz",
        "outputId": "e6f835ac-e2cf-4f33-bcd6-ba05967ceecd"
      },
      "execution_count": 1,
      "outputs": [
        {
          "output_type": "stream",
          "name": "stdout",
          "text": [
            " * Serving Flask app '__main__'\n",
            " * Debug mode: off\n"
          ]
        },
        {
          "output_type": "stream",
          "name": "stderr",
          "text": [
            "INFO:werkzeug:\u001b[31m\u001b[1mWARNING: This is a development server. Do not use it in a production deployment. Use a production WSGI server instead.\u001b[0m\n",
            " * Running on http://127.0.0.1:5000\n",
            "INFO:werkzeug:\u001b[33mPress CTRL+C to quit\u001b[0m\n"
          ]
        }
      ]
    },
    {
      "cell_type": "markdown",
      "source": [
        "In terminal:"
      ],
      "metadata": {
        "id": "bo2YJNdpQydS"
      }
    },
    {
      "cell_type": "code",
      "source": [
        "! python app.py"
      ],
      "metadata": {
        "id": "isC9LjWP3VAQ"
      },
      "execution_count": null,
      "outputs": []
    },
    {
      "cell_type": "markdown",
      "source": [
        "## DogHunt server"
      ],
      "metadata": {
        "id": "P6rRMqSUSzft"
      }
    },
    {
      "cell_type": "markdown",
      "source": [
        "Time to get back to the DogHunt!"
      ],
      "metadata": {
        "id": "mjV1zC0eOjjm"
      }
    },
    {
      "cell_type": "markdown",
      "source": [
        "![img](https://cdn-media-1.freecodecamp.org/images/1*bt-E2YcPafjiPbZFDMMmNQ.jpeg)"
      ],
      "metadata": {
        "id": "ot3Bymk7OoRD"
      }
    },
    {
      "cell_type": "code",
      "source": [
        "# app = FastAPI()\n",
        "# # https://fastapi.tiangolo.com/\n",
        "\n",
        "# @app.get(\"/\")\n",
        "# async def result():\n",
        "#   return {\"message\": \"some message\"}\n",
        "\n",
        "@app.get(\"/pos/{positions}\")\n",
        "def pos(positions: str):\n",
        "    # positions is the input we provide, a string, e.g \"1,2,3,4,5,6,7,8\"\n",
        "    pos = positions.split(\",\")\n",
        "    return {\"pos\": pos}"
      ],
      "metadata": {
        "id": "S45NvNQrTOoU"
      },
      "execution_count": null,
      "outputs": []
    },
    {
      "cell_type": "code",
      "source": [
        "cc.run_app(app=app)"
      ],
      "metadata": {
        "id": "JVtbMfRsWPpn"
      },
      "execution_count": null,
      "outputs": []
    },
    {
      "cell_type": "markdown",
      "source": [
        "**NOTE:** If your server in the previous cell is running, you will NOT be able to run the following cells 🙄 one disadvantage of Colab \\\n",
        "You have two options:\n",
        "* click on the ```ngroc``` link you receive in the output in the previous cell and edit the url directly in the line.\n",
        "* Use another notebook \n",
        "<div><a href=\"https://colab.research.google.com/github/STASYA00/iaacCodeAndDeploy/blob/main/IAAC_test_server.ipynb\"><img src=\"https://colab.research.google.com/assets/colab-badge.svg\" alt=\"Open In Colab\"/></a></div> \n",
        "\n",
        "to test (replace  the `URL` with the url you get in the previous cell. (e.g. ```https://3c70-34-86-231-153.ngrok.io/```) Make sure you have one slash between the URL and the endpoint :)"
      ],
      "metadata": {
        "id": "OZ5I78zGWSX3"
      }
    },
    {
      "cell_type": "code",
      "source": [
        "import requests\n",
        "URL = \"\" # your ngroc url\n",
        "#requests.get(\"https://3c70-34-86-231-153.ngrok.io/pos/1,2,3,4,5,6,7\")\n",
        "\n",
        "test_positions = [1,2,3,4,5,6,7,8]\n",
        "# write any sequence you want separated by the commas\n",
        "# [\"sdfs\", \"sd\"]\n",
        "\n",
        "\n",
        "requests.get(URL + \"pos/\" + \",\".join([str(x) for x in test_positions]))\n",
        "# Result: {\"pos\":[\"1\",\"2\",\"3\",\"4\",\"5\",\"6\",\"7\"]}"
      ],
      "metadata": {
        "id": "M5vgOiiSS5P0"
      },
      "execution_count": null,
      "outputs": []
    },
    {
      "cell_type": "code",
      "source": [
        "app = FastAPI()\n",
        "# https://fastapi.tiangolo.com/\n",
        "\n",
        "@app.get(\"/\")\n",
        "async def result():\n",
        "  return {\"message\": \"some message\"}\n",
        "\n",
        "@app.get(\"/pos/{positions}\")\n",
        "def pos(positions: str):\n",
        "    pos = positions.split(\",\")\n",
        "    pos = [[float(pos[x]), float(pos[x+1])] for x in range(0, len(pos)-1, 2)]\n",
        "    r = ResultCalculator.make(pos)\n",
        "    print(\"result\", r.result)\n",
        "    return r.result\n",
        "\n",
        "cc.run_app(app=app)  # running the app"
      ],
      "metadata": {
        "colab": {
          "base_uri": "https://localhost:8080/"
        },
        "id": "253cu_pyUXBK",
        "outputId": "a5952269-a11e-488f-e31d-40e415adcfa0"
      },
      "execution_count": 9,
      "outputs": [
        {
          "output_type": "stream",
          "name": "stderr",
          "text": [
            "WARNING:pyngrok.process.ngrok:t=2023-05-13T09:05:54+0000 lvl=warn msg=\"ngrok config file found at legacy location, move to XDG location\" xdg_path=/root/.config/ngrok/ngrok.yml legacy_path=/root/.ngrok2/ngrok.yml\n"
          ]
        },
        {
          "output_type": "stream",
          "name": "stdout",
          "text": [
            "Public URL: NgrokTunnel: \"https://075b-34-86-89-228.ngrok.io\" -> \"http://localhost:12000\"\n"
          ]
        },
        {
          "output_type": "stream",
          "name": "stderr",
          "text": [
            "INFO:     Started server process [128]\n",
            "INFO:uvicorn.error:Started server process [128]\n",
            "INFO:     Waiting for application startup.\n",
            "INFO:uvicorn.error:Waiting for application startup.\n",
            "INFO:     Application startup complete.\n",
            "INFO:uvicorn.error:Application startup complete.\n",
            "INFO:     Uvicorn running on http://127.0.0.1:12000 (Press CTRL+C to quit)\n",
            "INFO:uvicorn.error:Uvicorn running on http://127.0.0.1:12000 (Press CTRL+C to quit)\n"
          ]
        },
        {
          "output_type": "stream",
          "name": "stdout",
          "text": [
            "INFO:     158.174.248.118:0 - \"GET / HTTP/1.1\" 200 OK\n",
            "INFO:     158.174.248.118:0 - \"GET /favicon.ico HTTP/1.1\" 404 Not Found\n",
            "result {'min': 2.8284271247461903, 'max': 5.656854249492381, 'centroid': 3.36827891792981}\n",
            "INFO:     158.174.248.118:0 - \"GET /pos/1%2C2%2C3%2C4%2C5%2C6%2C7 HTTP/1.1\" 200 OK\n"
          ]
        },
        {
          "output_type": "stream",
          "name": "stderr",
          "text": [
            "INFO:     Shutting down\n",
            "INFO:uvicorn.error:Shutting down\n",
            "INFO:     Waiting for application shutdown.\n",
            "INFO:uvicorn.error:Waiting for application shutdown.\n",
            "INFO:     Application shutdown complete.\n",
            "INFO:uvicorn.error:Application shutdown complete.\n",
            "INFO:     Finished server process [128]\n",
            "INFO:uvicorn.error:Finished server process [128]\n"
          ]
        }
      ]
    },
    {
      "cell_type": "code",
      "source": [
        "import requests\n",
        "URL = \"\" # your ngroc url\n",
        "#requests.get(\"https://3c70-34-86-231-153.ngrok.io/pos/1,2,3,4,5,6,7\")\n",
        "requests.get(\"{}/pos/{}\".format(URL, \",\".join([str(x) for x in range(1, 8)])))\n",
        "\n",
        "# Result: {\"min\":2.8284271247461903,\"max\":5.656854249492381,\"centroid\":3.36827891792981}"
      ],
      "metadata": {
        "id": "_d3TKQY8VYNH"
      },
      "execution_count": null,
      "outputs": []
    },
    {
      "cell_type": "markdown",
      "source": [
        "### Same thing with an ML model"
      ],
      "metadata": {
        "id": "bB9BReMhXqJZ"
      }
    },
    {
      "cell_type": "markdown",
      "source": [
        "ml model:"
      ],
      "metadata": {
        "id": "LEbZD62IXtgN"
      }
    },
    {
      "cell_type": "code",
      "source": [
        "from sklearn.datasets import load_iris\n",
        "from sklearn.cluster import KMeans\n",
        "from sklearn.model_selection import train_test_split\n",
        "import pickle\n",
        "\n",
        "dogs = load_iris()\n",
        "\n",
        "\n",
        "kmeans = KMeans(n_clusters=3, random_state=0, n_init=\"auto\").fit(dogs.data[:100, :2])\n",
        "kmeans.labels_\n",
        "\n",
        "kmeans.predict([[0, 0], [12, 3]])\n",
        "\n",
        "kmeans.cluster_centers_\n",
        "\n",
        "pickle.dump(kmeans, open(\"model.pkl\", \"wb\"))"
      ],
      "metadata": {
        "id": "TO1i40dUXsgw"
      },
      "execution_count": 9,
      "outputs": []
    },
    {
      "cell_type": "markdown",
      "source": [
        "How you would normally use it:"
      ],
      "metadata": {
        "id": "cdK8JbuGjC6Z"
      }
    },
    {
      "cell_type": "code",
      "source": [
        "model = pickle.load(open(\"model.pkl\", \"rb\"))\n",
        "model.predict([[0, 0], [12, 3]])"
      ],
      "metadata": {
        "id": "RxocoCl4hlGX"
      },
      "execution_count": 15,
      "outputs": []
    },
    {
      "cell_type": "code",
      "source": [
        "from pydantic import BaseModel\n",
        "\n",
        "class Response(BaseModel):\n",
        "  content: str\n",
        "\n",
        "model = None\n",
        "\n",
        "app = FastAPI()\n",
        "# https://fastapi.tiangolo.com/\n",
        "\n",
        "@app.get(\"/\")\n",
        "async def result():\n",
        "  return {\"message\": \"some message\"}\n",
        "\n",
        "@app.get(\"/pos/{positions}\")\n",
        "def pos(positions: str):\n",
        "    pos = positions.split(\",\")\n",
        "    pos = [[float(pos[x]), float(pos[x+1])] for x in range(0, len(pos)-1, 2)]\n",
        "    r = ResultCalculator.make(pos)\n",
        "    print(\"result\", r.result)\n",
        "    return r.result\n",
        "\n",
        "@app.on_event(\"startup\")\n",
        "def load_model():\n",
        "    global model\n",
        "    model = pickle.load(open(\"model.pkl\", \"rb\"))\n",
        "\n",
        "@app.get(\"/predict/{positions}\")\n",
        "def predict(positions: str):\n",
        "    pos = positions.split(\",\")\n",
        "    pos = [[float(pos[x]), float(pos[x+1])] for x in range(0, len(pos)-1, 2)]\n",
        "    pred = [int(x) for x in list(model.predict([[0, 0], [12, 3]]))]\n",
        "    return {\"prediction\": pred}\n",
        "\n",
        "cc.run_app(app=app)  # running the app\n"
      ],
      "metadata": {
        "id": "nEmVvHHgX1uB"
      },
      "execution_count": null,
      "outputs": []
    },
    {
      "cell_type": "code",
      "source": [
        "# url = \"{}predict/0,0,12,13\".format(\"https://989f-35-230-11-12.ngrok.io/\")\n",
        "# r1= requests.get(url)\n",
        "# r1.json()"
      ],
      "metadata": {
        "id": "neINl_GWaeUA"
      },
      "execution_count": null,
      "outputs": []
    },
    {
      "cell_type": "markdown",
      "source": [
        "```{'prediction': [2, 1]}```"
      ],
      "metadata": {
        "id": "MQvYZ5xIjnr_"
      }
    },
    {
      "cell_type": "markdown",
      "source": [
        "## Resources 🤩"
      ],
      "metadata": {
        "id": "vzXCbIju2dSS"
      }
    },
    {
      "cell_type": "markdown",
      "source": [
        "\n",
        "* [mlcourse.ai](https://mlcourse.ai/book/index.html) - the best course. contains practical assignments on kaggle\n",
        "* [Detailed explanation of ML algorithms](https://www.slideshare.net/pierluca.lanzi/)\n",
        "* [Code design patterns](https://refactoring.guru/design-patterns)\n",
        "* [Python OOP](https://www.google.com/search?q=oop+python&oq=oop+python&aqs=chrome..69i57.1820j0j4&sourceid=chrome&ie=UTF-8) 😛 \n",
        "* [Flask](https://flask.palletsprojects.com/en/2.3.x/)\n",
        "* [FastAPI](https://fastapi.tiangolo.com/)\n",
        "* [Testing your server](https://reqbin.com/) (or making requests to any other server)\n"
      ],
      "metadata": {
        "id": "fOkgZOog2tAw"
      }
    }
  ]
}