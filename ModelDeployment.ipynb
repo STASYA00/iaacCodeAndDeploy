{
  "nbformat": 4,
  "nbformat_minor": 0,
  "metadata": {
    "colab": {
      "provenance": [],
      "collapsed_sections": [
        "YoZ6SywEL-ld",
        "Q0Bdbta6O790",
        "P6rRMqSUSzft",
        "bB9BReMhXqJZ"
      ],
      "authorship_tag": "ABX9TyMkZXdkE5VJcnM+C9HLSXfV",
      "include_colab_link": true
    },
    "kernelspec": {
      "name": "python3",
      "display_name": "Python 3"
    },
    "language_info": {
      "name": "python"
    }
  },
  "cells": [
    {
      "cell_type": "markdown",
      "metadata": {
        "id": "view-in-github",
        "colab_type": "text"
      },
      "source": [
        "<a href=\"https://colab.research.google.com/github/STASYA00/iaacCodeAndDeploy/blob/main/ModelDeployment.ipynb\" target=\"_parent\"><img src=\"https://colab.research.google.com/assets/colab-badge.svg\" alt=\"Open In Colab\"/></a>"
      ]
    },
    {
      "cell_type": "markdown",
      "source": [
        "# Getting your model out of GoogleSlides presentation! ⭐ 💥"
      ],
      "metadata": {
        "id": "iBRAee3y8syI"
      }
    },
    {
      "cell_type": "markdown",
      "source": [
        "![img](https://www.jmmnews.com/wp-content/uploads/2015/11/theory-practice-chalkboard-banner-1140x410.jpg)"
      ],
      "metadata": {
        "id": "-P-xE0HI5dLU"
      }
    },
    {
      "cell_type": "markdown",
      "source": [
        "Making a demo includes a few simple steps:\n",
        "1. Defining the desired input and output\n",
        "1. DEFNING THE ARCHITECTURE (of the code ofc)\n",
        "1. Preparing the model for serving\n",
        "1. Making a server\n",
        "1. Testing the server\n",
        "1. Ready!\n",
        "1. ~~Preferrably setting it on the cloud~~"
      ],
      "metadata": {
        "id": "lCexzjI584rU"
      }
    },
    {
      "cell_type": "markdown",
      "source": [
        "## DogHunt 🐕 🌭"
      ],
      "metadata": {
        "id": "RPLPrzj5-MAe"
      }
    },
    {
      "cell_type": "markdown",
      "source": [
        "![img](https://mlcourse.ai/_images/no_ml_meme.jpg)"
      ],
      "metadata": {
        "id": "ntfF3bTm1gAC"
      }
    },
    {
      "cell_type": "markdown",
      "source": [
        "We want to detect homeless dogs in the city and find locations with the highest homeless dogs' density. This way we will be able to communicate the coordinates to the municipality and they can deal with the homeless dogs problem more efficiently.\\\n",
        "\\\n",
        "__MVP description:__ describe dogs clusters with meaningful metrics (distance from the center of the cluster, max distance between the points in the cluster, min distance between the points in the cluster)\\\n",
        "\\\n",
        "__Input:__ positions of the dogs ```list<float, float> [[x1,y1],[x2,y2]]```\\\n",
        "\\\n",
        "__Output:__ dictionary with the metrics ```{\"min\": float, \"max\": float, \"centroid\": float}```"
      ],
      "metadata": {
        "id": "PTvFY0Ib-UqU"
      }
    },
    {
      "cell_type": "markdown",
      "source": [
        "### Some ~~obligatory~~ good practices - OOP 🔥\n",
        "\n",
        "Object-Oriented Programming.\\\n",
        "*Google it to know more about the idea*\\\n",
        "\\\n",
        "The idea is to write code that is modular. Think about it as about a modular building: complex space with multiple functions composed of simple monofunctional blocks. Benefit: blocks can be combined in any way you like + you can easily substitute one block with another one. Or change the internal composition of a block - and all the instances of it will be replaced together.\\\n",
        "\\\n",
        "Objects are the code's modules.\\\n",
        "\\\n",
        "The main principle you need to know about now:\n",
        "* One object - one responsibility"
      ],
      "metadata": {
        "id": "oWRdsA8QAFtr"
      }
    },
    {
      "cell_type": "markdown",
      "source": [
        "![img](https://d2g3qskbb0hwf.cloudfront.net/eyJidWNrZXQiOiJ1bmktcHJvamVjdHMiLCJrZXkiOiI3LzA1NDQ3OTU4LWJlZTEtNGM5MC04NGFlLTQwZjY5OWFiZmU4ZS9rYXR5YTY5MjAyMC0xMC0yOVQwMC0zNy0xOC01NzA2MDUuanBnIiwiZWRpdHMiOnsicmVzaXplIjp7IndpZHRoIjoxNDQwLCJmaXQiOiJjb3ZlciJ9LCJmbGF0dGVuIjpmYWxzZSwibm9ybWFsaXNlIjpmYWxzZX19)"
      ],
      "metadata": {
        "id": "qoOSjedd7KyU"
      }
    },
    {
      "cell_type": "code",
      "source": [
        "from enum import Enum\n",
        "# Enumerator - so that we don't write dictionary keys many times (avoiding unnecessary bugs!)\n",
        "\n",
        "\n",
        "class DogMetrics(Enum):\n",
        "  MIN=\"min\"\n",
        "  MAX= \"max\"\n",
        "  CENTROID=\"centroid\"\n",
        "\n",
        "# How to use:\n",
        "DogMetrics.MIN.value"
      ],
      "metadata": {
        "colab": {
          "base_uri": "https://localhost:8080/",
          "height": 36
        },
        "id": "3agqXE6-_3TV",
        "outputId": "661d1e0a-33dd-4c28-d077-7ef946464df4"
      },
      "execution_count": 3,
      "outputs": [
        {
          "output_type": "execute_result",
          "data": {
            "text/plain": [
              "'min'"
            ],
            "application/vnd.google.colaboratory.intrinsic+json": {
              "type": "string"
            }
          },
          "metadata": {},
          "execution_count": 3
        }
      ]
    },
    {
      "cell_type": "markdown",
      "source": [
        "**Exercise**\\\n",
        "\\\n",
        "Write an enumerator BuildingTypes. 🏘\\\n",
        "\\\n",
        "BuildingTypes should have types ```COMMERCIAL```, ```RESIDENTIAL```, ```INDUSTRIAL```\\\n",
        "You can set any values you want \n"
      ],
      "metadata": {
        "id": "WqKuF_idCama"
      }
    },
    {
      "cell_type": "code",
      "source": [
        "# your BuildingTypes implementation"
      ],
      "metadata": {
        "id": "0_VJUgNDDCRD"
      },
      "execution_count": null,
      "outputs": []
    },
    {
      "cell_type": "code",
      "source": [
        "# test\n",
        "assert(len(BuildingTypes.__members__.values())==3)\n",
        "assert(\"Commercial\".upper() in BuildingTypes.__members__.keys())\n",
        "assert(\"Industrial\".upper() in BuildingTypes.__members__.keys())\n",
        "assert(\"Residential\".upper() in BuildingTypes.__members__.keys())\n",
        "print(\"test passed\")"
      ],
      "metadata": {
        "id": "P3RFGSO3DEmJ"
      },
      "execution_count": 11,
      "outputs": []
    },
    {
      "cell_type": "code",
      "source": [
        "class Metric:\n",
        "  \"\"\"\n",
        "  Example of an object.\n",
        "  Advantage: keeping all the responsibility around a concept in one place\n",
        "  Easy to debug :)\n",
        "  \"\"\"\n",
        "  def __init__(self, name):\n",
        "    # Constructor, runs automatically when the object is constructed (metric = Metric(name=\"metricname\"))\n",
        "    self.name = name  # class property set in the constructor\n",
        "                      # accessed: \n",
        "                      #\n",
        "                      # metric = Metric(name=\"metricname\")\n",
        "                      # print(metric.name)\n",
        "                      # >> \"metricname\"\n",
        "    self.value = \"123\" # class property, set inside\n",
        "                      # accessed: \n",
        "                      # metric = Metric(name=\"metricname\")\n",
        "                      # print(metric.value)\n",
        "                      # >> \"123\"\n",
        "    \n",
        "  def make(self):\n",
        "    # method of the object. Accessed: \n",
        "    # metric = Metric(name=\"anothermetric\")\n",
        "    # metric.make()\n",
        "    # >> \"anothermetric\"\n",
        "    # self that you write is the reference to the object itself\n",
        "    # it allows to access other methods and properties that you define:\n",
        "    return self.name \n",
        "\n",
        "metric = Metric(\"somemetric\")\n",
        "print(\"Property name\", metric.name)\n",
        "print(\"Method make:\", metric.make())\n",
        "metric.name = \"Dog\" # normally there are better ways to set properties, but we do like this for now!\n",
        "print(\"-\" * 15)\n",
        "print(\"Property name\", metric.name)\n",
        "print(\"Method make:\", metric.make())"
      ],
      "metadata": {
        "colab": {
          "base_uri": "https://localhost:8080/"
        },
        "id": "junuByZi8ZTS",
        "outputId": "eea07842-8733-4e54-fe8e-b607eb4b46d6"
      },
      "execution_count": 1,
      "outputs": [
        {
          "output_type": "stream",
          "name": "stdout",
          "text": [
            "Property name Min\n",
            "Method make: Min\n",
            "---------------\n",
            "Property name Dog\n",
            "Method make: Dog\n"
          ]
        }
      ]
    },
    {
      "cell_type": "markdown",
      "source": [
        "**Exercise**\\\n",
        "\\\n",
        "Write a class Building. 🏘\\\n",
        "\\\n",
        "Building should have properties ```width```, ```length```, ```height```\\\n",
        "We want to calculate Building's footprint's area (we assume that it's rectangular) with ```get_area``` method\\\n",
        "We want to calculate Building's volume (we assume that it's a prism) with ```get_volume``` method"
      ],
      "metadata": {
        "id": "pf5ehlNc_Hk5"
      }
    },
    {
      "cell_type": "code",
      "source": [
        "# your implementation of Building"
      ],
      "metadata": {
        "id": "mg2_3Lx8AHQz"
      },
      "execution_count": null,
      "outputs": []
    },
    {
      "cell_type": "code",
      "source": [
        "#test\n",
        "test_width=10\n",
        "test_length=2\n",
        "test_height=30\n",
        "building = Building(width=test_width, length=test_length, height=test_height)\n",
        "assert(building.width==test_width)\n",
        "assert(building.height==test_height)\n",
        "assert(building.length == test_length)\n",
        "assert(building.get_area()==test_width * test_length)\n",
        "assert(building.get_volume()==test_width * test_length * test_height)\n",
        "print(\"passed the tests!\")"
      ],
      "metadata": {
        "colab": {
          "base_uri": "https://localhost:8080/"
        },
        "id": "JLe7IWVVAXAM",
        "outputId": "9f255913-ebb7-4590-f06e-bb620f7a91db"
      },
      "execution_count": 7,
      "outputs": [
        {
          "output_type": "stream",
          "name": "stdout",
          "text": [
            "passed the tests!\n"
          ]
        }
      ]
    },
    {
      "cell_type": "markdown",
      "source": [
        "**Bonus**\\\n",
        "\\\n",
        "Add a ```typology``` property to the building, set it to one of the enumerator values.\n"
      ],
      "metadata": {
        "id": "x39ZJ3VfJwiu"
      }
    },
    {
      "cell_type": "code",
      "source": [
        "class ResultConstructor:\n",
        "  \"\"\"\n",
        "  Object responsible for constructing the result\n",
        "  \"\"\"\n",
        "  def __init__(self):\n",
        "    \"\"\"\n",
        "    Object constructor. Takes no arguments.\n",
        "    constructor = ResultConstructor()\n",
        "    \"\"\"\n",
        "    self.result = self._reset() # this parameter is constructed internally from the _reset function\n",
        "                                # access: constructor = ResultConstructor()\n",
        "                                #         constructor.result\n",
        "\n",
        "  def _reset(self):\n",
        "    \"\"\"\n",
        "    This function returns the result in the format we define. A dictionary with the keys we want and 0 for all the values initially.\n",
        "    {\n",
        "      \"min\":0,\n",
        "      \"max\": 0,\n",
        "      \"centroid\":0\n",
        "    }\n",
        "    \"\"\"\n",
        "    # How it essentially works:\n",
        "    # return {DogMetrics.MIN.value:0, DogMetrics.MAX.value:0, DogMetrics.CENTROID.value: 0}\n",
        "\n",
        "    # A better way to write it (we don't need to change the code in this module when we add metrics to the enumerator): \n",
        "    # return {x.value: 0 for x in DogMetrics.__members__.values()}\n",
        "\n",
        "    return {DogMetrics.MIN.value:0, \n",
        "            DogMetrics.MAX.value:0, \n",
        "            DogMetrics.CENTROID.value: 0}\n",
        "\n",
        "  def set_min(self, value):\n",
        "    \"\"\"\n",
        "    Setting minimum value in the result parameter.\n",
        "    constructor = ResultConstructor()\n",
        "    constructor.set_min(125)\n",
        "    constructor.result[\"min\"] >> 125\n",
        "    constructor.result[DogMetrics.MIN.value] >> 125\n",
        "    \"\"\"\n",
        "    self.result[DogMetrics.MIN.value] = value\n",
        "\n",
        "  def set_max(self, value):\n",
        "    \"\"\"\n",
        "    Setting maximum value in the result parameter.\n",
        "     constructor = ResultConstructor()\n",
        "    constructor.set_max(125)\n",
        "    constructor.result[\"max\"] >> 125\n",
        "    constructor.result[DogMetrics.MAX.value] >> 125\n",
        "    \"\"\"\n",
        "    self.result[DogMetrics.MAX.value] = value\n",
        "\n",
        "  def set_centroid(self, value):\n",
        "    \"\"\"\n",
        "    Setting centroid value in the result parameter.\n",
        "    constructor = ResultConstructor()\n",
        "    constructor.set_centroid(125)\n",
        "    constructor.result[\"centroid\"] >> 125\n",
        "    constructor.result[DogMetrics.CENTROID.value] >> 125\n",
        "\n",
        "    \"\"\"\n",
        "    self.result[DogMetrics.CENTROID.value] = value\n"
      ],
      "metadata": {
        "id": "QBRXXWlTBeBL"
      },
      "execution_count": 4,
      "outputs": []
    },
    {
      "cell_type": "markdown",
      "source": [
        "Instead of writing\\\n",
        "```{\"min\": 123, \"max\": 234, \"centroid\": 45}```\\\n",
        "Or even \\\n",
        "```{ \\\n",
        "DogMetrics.MIN.value: 123, \\\n",
        "  DogMetrics.MAX.value: 234, \\\n",
        "DogMetrics.CENTROID.value: 45 \\\n",
        "}```\\\n",
        "or even\\\n",
        "```constructor = ResultConstructor() \\\n",
        "constructor.result[DogMetrics.MIN.value] = 10```\\\n",
        "we can now write:"
      ],
      "metadata": {
        "id": "cWt_nzfcEq-D"
      }
    },
    {
      "cell_type": "code",
      "source": [
        "constructor = ResultConstructor()\n",
        "constructor.set_min(10)\n",
        "print(constructor.result)"
      ],
      "metadata": {
        "colab": {
          "base_uri": "https://localhost:8080/"
        },
        "id": "gNrpZTkpDvI9",
        "outputId": "5fdd248c-4cad-4cd5-c18d-c20574c9245c"
      },
      "execution_count": 5,
      "outputs": [
        {
          "output_type": "stream",
          "name": "stdout",
          "text": [
            "{'min': 10, 'max': 0, 'centroid': 0}\n"
          ]
        }
      ]
    },
    {
      "cell_type": "code",
      "source": [
        "import numpy as np\n",
        "\n",
        "class ResultCalculator:\n",
        "  \"\"\"\n",
        "  Object responsible for the calculations of the metrics.\n",
        "  Contains functions that calculate the metrics.\n",
        "\n",
        "  Instead of writing \n",
        "  def function1():\n",
        "    return\n",
        "  def function2():\n",
        "    return\n",
        "\n",
        "  We put these functions inside an object, so it becomes easier to access them in one place.\n",
        "  \n",
        "  NOTE:\n",
        "\n",
        "  I don't write an __init__ here\n",
        "  because we will only have static methods here.\n",
        "\n",
        "  More about static methods here:\n",
        "  https://www.digitalocean.com/community/tutorials/python-static-method\n",
        "  \"\"\"\n",
        "  @staticmethod\n",
        "  def make(positions):\n",
        "    # \\@staticmethod means that the function is called without the object:\n",
        "    # ResultCalculator.make(positions)\n",
        "    # Note: there is no self in the function argument list\n",
        "    #       and there are no parenthesis when you call ResultCalculator\n",
        "\n",
        "    positions = np.array(positions)\n",
        "    res = ResultConstructor() # output in the defined format\n",
        "    res.set_centroid(ResultCalculator.centroid(positions))\n",
        "\n",
        "    positions = ResultCalculator.distance_matrix(positions)\n",
        "    res.set_min(ResultCalculator.min(positions))\n",
        "    res.set_max(ResultCalculator.max(positions))\n",
        "    \n",
        "\n",
        "    return res\n",
        "\n",
        "  @staticmethod\n",
        "  def distance_matrix(dm):\n",
        "    \"\"\"\n",
        "    Calculate pairwise distances between all the points\n",
        "    \"\"\"\n",
        "    return np.linalg.norm(dm[:, None, :] - dm[None, :, :], axis=-1)\n",
        "\n",
        "  @staticmethod\n",
        "  def min(dm):\n",
        "    \"\"\"\n",
        "    Get the minimum distance from the pairwise distance matrix.\n",
        "    Note: we do not consider the diagonal values, they are always equal to 0\n",
        "    \n",
        "    \"\"\"\n",
        "    return np.min(dm + np.eye(dm.shape[0], dm.shape[1]) * 1000)\n",
        "\n",
        "  @staticmethod\n",
        "  def max(dm):\n",
        "    \"\"\"\n",
        "    Get the maximum distance from the pairwise distance matrix.    \n",
        "    \"\"\"\n",
        "    return np.max(dm)\n",
        "\n",
        "  @staticmethod\n",
        "  def centroid(pts):\n",
        "    \"\"\"\n",
        "    Get the average distance from the centroid to the points.\n",
        "    \"\"\"\n",
        "    return np.mean(np.linalg.norm(pts - np.array([np.mean(pts, 0)]), axis=1))\n"
      ],
      "metadata": {
        "id": "fMqnBvz_G7R1"
      },
      "execution_count": 6,
      "outputs": []
    },
    {
      "cell_type": "code",
      "source": [
        "test_positions = [[0,0],[10,2],[2,3],[8,9]]\n",
        "r = ResultCalculator.make(test_positions)\n",
        "r.result"
      ],
      "metadata": {
        "colab": {
          "base_uri": "https://localhost:8080/"
        },
        "id": "ruQKZ9pnJlta",
        "outputId": "1281726d-cdcf-4d15-f914-d0a2c512558c"
      },
      "execution_count": 7,
      "outputs": [
        {
          "output_type": "execute_result",
          "data": {
            "text/plain": [
              "{'min': 3.605551275463989,\n",
              " 'max': 12.041594578792296,\n",
              " 'centroid': 8.249585209429165}"
            ]
          },
          "metadata": {},
          "execution_count": 7
        }
      ]
    },
    {
      "cell_type": "markdown",
      "source": [
        "## SERVER - testing the app"
      ],
      "metadata": {
        "id": "YoZ6SywEL-ld"
      }
    },
    {
      "cell_type": "markdown",
      "source": [
        "Think about your server as a continuously running app"
      ],
      "metadata": {
        "id": "3W7zuPquMOBG"
      }
    },
    {
      "cell_type": "markdown",
      "source": [
        "### In colab:"
      ],
      "metadata": {
        "id": "7eV7ErcLOCe1"
      }
    },
    {
      "cell_type": "code",
      "execution_count": null,
      "metadata": {
        "id": "KNQ-3y_93FMA"
      },
      "outputs": [],
      "source": [
        "!pip install colabcode\n",
        "!pip install fastapi"
      ]
    },
    {
      "cell_type": "code",
      "source": [
        "from colabcode import ColabCode\n",
        "from fastapi import FastAPI\n",
        "port = 12000\n",
        "cc = ColabCode(port=port, code=False)"
      ],
      "metadata": {
        "id": "PdLWfO7LOG5v"
      },
      "execution_count": 2,
      "outputs": []
    },
    {
      "cell_type": "code",
      "source": [
        "app = FastAPI()\n",
        "# https://fastapi.tiangolo.com/\n",
        "\n",
        "# @app.get(\"/hunt\") creates an endpoint for your website url, e.g.\n",
        "#               www.doghunt.org/hunt\n",
        "# (\"/\") corresponds to the root, e.g. www.doghunt.org (www.doghunt.org/)\n",
        "# so if we go to our url www.doghunt.org we would see {\"message\": \"some message\"} on a white page.\n",
        "\n",
        "@app.get(\"/\")\n",
        "async def result():\n",
        "  return {\"message\": \"some message\"} # dict, json"
      ],
      "metadata": {
        "id": "DpT-9BS4OO0_"
      },
      "execution_count": 9,
      "outputs": []
    },
    {
      "cell_type": "code",
      "source": [
        "cc.run_app(app=app)  # running the app"
      ],
      "metadata": {
        "colab": {
          "base_uri": "https://localhost:8080/"
        },
        "id": "Y-jXfryqOZMD",
        "outputId": "ae387962-59b4-4239-ec83-d103c0e61aa2"
      },
      "execution_count": 10,
      "outputs": [
        {
          "output_type": "stream",
          "name": "stdout",
          "text": []
        },
        {
          "output_type": "stream",
          "name": "stderr",
          "text": [
            "WARNING:pyngrok.process.ngrok:t=2023-05-13T08:46:58+0000 lvl=warn msg=\"ngrok config file found at legacy location, move to XDG location\" xdg_path=/root/.config/ngrok/ngrok.yml legacy_path=/root/.ngrok2/ngrok.yml\n",
            "INFO:     Started server process [148]\n",
            "INFO:uvicorn.error:Started server process [148]\n",
            "INFO:     Waiting for application startup.\n",
            "INFO:uvicorn.error:Waiting for application startup.\n",
            "INFO:     Application startup complete.\n",
            "INFO:uvicorn.error:Application startup complete.\n",
            "INFO:     Uvicorn running on http://127.0.0.1:12000 (Press CTRL+C to quit)\n",
            "INFO:uvicorn.error:Uvicorn running on http://127.0.0.1:12000 (Press CTRL+C to quit)\n"
          ]
        },
        {
          "output_type": "stream",
          "name": "stdout",
          "text": [
            "Public URL: NgrokTunnel: \"https://3c70-34-86-231-153.ngrok.io\" -> \"http://localhost:12000\"\n",
            "INFO:     158.174.248.118:0 - \"GET / HTTP/1.1\" 200 OK\n",
            "INFO:     158.174.248.118:0 - \"GET /favicon.ico HTTP/1.1\" 404 Not Found\n",
            "INFO:     158.174.248.118:0 - \"GET /pos/1%2C2%2C3%2C4%2C5%2C6%2C7 HTTP/1.1\" 200 OK\n"
          ]
        },
        {
          "output_type": "stream",
          "name": "stderr",
          "text": [
            "INFO:     Shutting down\n",
            "INFO:uvicorn.error:Shutting down\n",
            "INFO:     Waiting for application shutdown.\n",
            "INFO:uvicorn.error:Waiting for application shutdown.\n",
            "INFO:     Application shutdown complete.\n",
            "INFO:uvicorn.error:Application shutdown complete.\n",
            "INFO:     Finished server process [148]\n",
            "INFO:uvicorn.error:Finished server process [148]\n"
          ]
        }
      ]
    },
    {
      "cell_type": "markdown",
      "source": [
        "Call your app (separate notebook)"
      ],
      "metadata": {
        "id": "SlgxgkYIOvYK"
      }
    },
    {
      "cell_type": "code",
      "source": [
        "import requests\n",
        "URL = \"YOUR URL\" # replace with ngrok url from the server cell output, e.g. https://6bd5-34-86-171-56.ngrok.io/\n",
        "requests.get(URL).json()\n",
        "\n",
        "# >> {\"message\": \"some message\"}"
      ],
      "metadata": {
        "id": "k8A5hQfGPZB4"
      },
      "execution_count": null,
      "outputs": []
    },
    {
      "cell_type": "markdown",
      "source": [
        "### Locally 🤍"
      ],
      "metadata": {
        "id": "Q0Bdbta6O790"
      }
    },
    {
      "cell_type": "code",
      "source": [
        "# create a file named app.py \n",
        "# %%writefile app.py - colab command for it\n",
        "\n",
        "# inside app.py:\n",
        "\n",
        "from flask import Flask\n",
        "\n",
        "app = Flask(__name__)\n",
        "# https://flask.palletsprojects.com/en/2.3.x/quickstart/#a-minimal-application\n",
        "\n",
        "@app.route(\"/\")\n",
        "def hello_world():\n",
        "    return \"<p>Some text</p>\"\n",
        "\n",
        "if __name__ == '__main__':\n",
        "    app.run()"
      ],
      "metadata": {
        "colab": {
          "base_uri": "https://localhost:8080/"
        },
        "id": "wuad3bpP3Maz",
        "outputId": "e6f835ac-e2cf-4f33-bcd6-ba05967ceecd"
      },
      "execution_count": 1,
      "outputs": [
        {
          "output_type": "stream",
          "name": "stdout",
          "text": [
            " * Serving Flask app '__main__'\n",
            " * Debug mode: off\n"
          ]
        },
        {
          "output_type": "stream",
          "name": "stderr",
          "text": [
            "INFO:werkzeug:\u001b[31m\u001b[1mWARNING: This is a development server. Do not use it in a production deployment. Use a production WSGI server instead.\u001b[0m\n",
            " * Running on http://127.0.0.1:5000\n",
            "INFO:werkzeug:\u001b[33mPress CTRL+C to quit\u001b[0m\n"
          ]
        }
      ]
    },
    {
      "cell_type": "markdown",
      "source": [
        "In terminal:"
      ],
      "metadata": {
        "id": "bo2YJNdpQydS"
      }
    },
    {
      "cell_type": "code",
      "source": [
        "! python app.py"
      ],
      "metadata": {
        "id": "isC9LjWP3VAQ"
      },
      "execution_count": null,
      "outputs": []
    },
    {
      "cell_type": "markdown",
      "source": [
        "## DogHunt server"
      ],
      "metadata": {
        "id": "P6rRMqSUSzft"
      }
    },
    {
      "cell_type": "code",
      "source": [
        "# app = FastAPI()\n",
        "# # https://fastapi.tiangolo.com/\n",
        "\n",
        "# @app.get(\"/\")\n",
        "# async def result():\n",
        "#   return {\"message\": \"some message\"}\n",
        "\n",
        "@app.get(\"/pos/{positions}\")\n",
        "def pos(positions: str):\n",
        "    # positions is the input we provide, a string, e.g \"1,2,3,4,5,6,7,8\"\n",
        "    pos = positions.split(\",\")\n",
        "    return {\"pos\": pos}"
      ],
      "metadata": {
        "id": "S45NvNQrTOoU"
      },
      "execution_count": null,
      "outputs": []
    },
    {
      "cell_type": "code",
      "source": [
        "import requests\n",
        "URL = \"\" # your ngroc url\n",
        "#requests.get(\"https://3c70-34-86-231-153.ngrok.io/pos/1,2,3,4,5,6,7\")\n",
        "requests.get(\"{}/pos/{}\".format(URL, \",\".join([str(x) for x in range(1, 8)])))\n",
        "# Result: {\"pos\":[\"1\",\"2\",\"3\",\"4\",\"5\",\"6\",\"7\"]}"
      ],
      "metadata": {
        "id": "M5vgOiiSS5P0"
      },
      "execution_count": null,
      "outputs": []
    },
    {
      "cell_type": "code",
      "source": [
        "app = FastAPI()\n",
        "# https://fastapi.tiangolo.com/\n",
        "\n",
        "@app.get(\"/\")\n",
        "async def result():\n",
        "  return {\"message\": \"some message\"}\n",
        "\n",
        "@app.get(\"/pos/{positions}\")\n",
        "def pos(positions: str):\n",
        "    pos = positions.split(\",\")\n",
        "    pos = [[float(pos[x]), float(pos[x+1])] for x in range(0, len(pos)-1, 2)]\n",
        "    r = ResultCalculator.make(pos)\n",
        "    print(\"result\", r.result)\n",
        "    return r.result\n",
        "\n",
        "cc.run_app(app=app)  # running the app"
      ],
      "metadata": {
        "colab": {
          "base_uri": "https://localhost:8080/"
        },
        "id": "253cu_pyUXBK",
        "outputId": "a5952269-a11e-488f-e31d-40e415adcfa0"
      },
      "execution_count": 9,
      "outputs": [
        {
          "output_type": "stream",
          "name": "stderr",
          "text": [
            "WARNING:pyngrok.process.ngrok:t=2023-05-13T09:05:54+0000 lvl=warn msg=\"ngrok config file found at legacy location, move to XDG location\" xdg_path=/root/.config/ngrok/ngrok.yml legacy_path=/root/.ngrok2/ngrok.yml\n"
          ]
        },
        {
          "output_type": "stream",
          "name": "stdout",
          "text": [
            "Public URL: NgrokTunnel: \"https://075b-34-86-89-228.ngrok.io\" -> \"http://localhost:12000\"\n"
          ]
        },
        {
          "output_type": "stream",
          "name": "stderr",
          "text": [
            "INFO:     Started server process [128]\n",
            "INFO:uvicorn.error:Started server process [128]\n",
            "INFO:     Waiting for application startup.\n",
            "INFO:uvicorn.error:Waiting for application startup.\n",
            "INFO:     Application startup complete.\n",
            "INFO:uvicorn.error:Application startup complete.\n",
            "INFO:     Uvicorn running on http://127.0.0.1:12000 (Press CTRL+C to quit)\n",
            "INFO:uvicorn.error:Uvicorn running on http://127.0.0.1:12000 (Press CTRL+C to quit)\n"
          ]
        },
        {
          "output_type": "stream",
          "name": "stdout",
          "text": [
            "INFO:     158.174.248.118:0 - \"GET / HTTP/1.1\" 200 OK\n",
            "INFO:     158.174.248.118:0 - \"GET /favicon.ico HTTP/1.1\" 404 Not Found\n",
            "result {'min': 2.8284271247461903, 'max': 5.656854249492381, 'centroid': 3.36827891792981}\n",
            "INFO:     158.174.248.118:0 - \"GET /pos/1%2C2%2C3%2C4%2C5%2C6%2C7 HTTP/1.1\" 200 OK\n"
          ]
        },
        {
          "output_type": "stream",
          "name": "stderr",
          "text": [
            "INFO:     Shutting down\n",
            "INFO:uvicorn.error:Shutting down\n",
            "INFO:     Waiting for application shutdown.\n",
            "INFO:uvicorn.error:Waiting for application shutdown.\n",
            "INFO:     Application shutdown complete.\n",
            "INFO:uvicorn.error:Application shutdown complete.\n",
            "INFO:     Finished server process [128]\n",
            "INFO:uvicorn.error:Finished server process [128]\n"
          ]
        }
      ]
    },
    {
      "cell_type": "code",
      "source": [
        "import requests\n",
        "URL = \"\" # your ngroc url\n",
        "#requests.get(\"https://3c70-34-86-231-153.ngrok.io/pos/1,2,3,4,5,6,7\")\n",
        "requests.get(\"{}/pos/{}\".format(URL, \",\".join([str(x) for x in range(1, 8)])))\n",
        "\n",
        "# Result: {\"min\":2.8284271247461903,\"max\":5.656854249492381,\"centroid\":3.36827891792981}"
      ],
      "metadata": {
        "id": "_d3TKQY8VYNH"
      },
      "execution_count": null,
      "outputs": []
    },
    {
      "cell_type": "markdown",
      "source": [
        "### Same thing with an ML model"
      ],
      "metadata": {
        "id": "bB9BReMhXqJZ"
      }
    },
    {
      "cell_type": "markdown",
      "source": [
        "ml model:"
      ],
      "metadata": {
        "id": "LEbZD62IXtgN"
      }
    },
    {
      "cell_type": "code",
      "source": [
        "from sklearn.datasets import load_iris\n",
        "from sklearn.cluster import KMeans\n",
        "from sklearn.model_selection import train_test_split\n",
        "import pickle\n",
        "\n",
        "dogs = load_iris()\n",
        "\n",
        "\n",
        "kmeans = KMeans(n_clusters=3, random_state=0, n_init=\"auto\").fit(dogs.data[:100, :2])\n",
        "kmeans.labels_\n",
        "\n",
        "kmeans.predict([[0, 0], [12, 3]])\n",
        "\n",
        "kmeans.cluster_centers_\n",
        "\n",
        "pickle.dump(kmeans, open(\"model.pkl\", \"wb\"))"
      ],
      "metadata": {
        "id": "TO1i40dUXsgw"
      },
      "execution_count": 9,
      "outputs": []
    },
    {
      "cell_type": "markdown",
      "source": [
        "How you would normally use it:"
      ],
      "metadata": {
        "id": "cdK8JbuGjC6Z"
      }
    },
    {
      "cell_type": "code",
      "source": [
        "model = pickle.load(open(\"model.pkl\", \"rb\"))\n",
        "model.predict([[0, 0], [12, 3]])"
      ],
      "metadata": {
        "id": "RxocoCl4hlGX"
      },
      "execution_count": 15,
      "outputs": []
    },
    {
      "cell_type": "code",
      "source": [
        "from pydantic import BaseModel\n",
        "\n",
        "class Response(BaseModel):\n",
        "  content: str\n",
        "\n",
        "model = None\n",
        "\n",
        "app = FastAPI()\n",
        "# https://fastapi.tiangolo.com/\n",
        "\n",
        "@app.get(\"/\")\n",
        "async def result():\n",
        "  return {\"message\": \"some message\"}\n",
        "\n",
        "@app.get(\"/pos/{positions}\")\n",
        "def pos(positions: str):\n",
        "    pos = positions.split(\",\")\n",
        "    pos = [[float(pos[x]), float(pos[x+1])] for x in range(0, len(pos)-1, 2)]\n",
        "    r = ResultCalculator.make(pos)\n",
        "    print(\"result\", r.result)\n",
        "    return r.result\n",
        "\n",
        "@app.on_event(\"startup\")\n",
        "def load_model():\n",
        "    global model\n",
        "    model = pickle.load(open(\"model.pkl\", \"rb\"))\n",
        "\n",
        "@app.get(\"/predict/{positions}\")\n",
        "def predict(positions: str):\n",
        "    pos = positions.split(\",\")\n",
        "    pos = [[float(pos[x]), float(pos[x+1])] for x in range(0, len(pos)-1, 2)]\n",
        "    pred = [int(x) for x in list(model.predict([[0, 0], [12, 3]]))]\n",
        "    return {\"prediction\": pred}\n",
        "\n",
        "cc.run_app(app=app)  # running the app\n"
      ],
      "metadata": {
        "id": "nEmVvHHgX1uB"
      },
      "execution_count": null,
      "outputs": []
    },
    {
      "cell_type": "code",
      "source": [
        "# url = \"{}predict/0,0,12,13\".format(\"https://989f-35-230-11-12.ngrok.io/\")\n",
        "# r1= requests.get(url)\n",
        "# r1.json()"
      ],
      "metadata": {
        "id": "neINl_GWaeUA"
      },
      "execution_count": null,
      "outputs": []
    },
    {
      "cell_type": "markdown",
      "source": [
        "```{'prediction': [2, 1]}```"
      ],
      "metadata": {
        "id": "MQvYZ5xIjnr_"
      }
    },
    {
      "cell_type": "code",
      "source": [],
      "metadata": {
        "id": "7xPv0twwjpXL"
      },
      "execution_count": null,
      "outputs": []
    },
    {
      "cell_type": "markdown",
      "source": [
        "## Resources 🤩"
      ],
      "metadata": {
        "id": "vzXCbIju2dSS"
      }
    },
    {
      "cell_type": "markdown",
      "source": [
        "\n",
        "* [mlcourse.ai](https://mlcourse.ai/book/index.html) - the best course. contains practical assignments on kaggle\n",
        "* [Detailed explanation of ML algorithms](https://www.slideshare.net/pierluca.lanzi/)\n",
        "* [Code design patterns](https://refactoring.guru/design-patterns)\n",
        "* [Python OOP](https://www.google.com/search?q=oop+python&oq=oop+python&aqs=chrome..69i57.1820j0j4&sourceid=chrome&ie=UTF-8) 😛 \n",
        "* [Flask](https://flask.palletsprojects.com/en/2.3.x/)\n",
        "* [FastAPI](https://fastapi.tiangolo.com/)\n",
        "* [Testing your server](https://reqbin.com/) (or making requests to any other server)\n"
      ],
      "metadata": {
        "id": "fOkgZOog2tAw"
      }
    },
    {
      "cell_type": "code",
      "source": [],
      "metadata": {
        "id": "CYGyGJTx2mFh"
      },
      "execution_count": null,
      "outputs": []
    }
  ]
}